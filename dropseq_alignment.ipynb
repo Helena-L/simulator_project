{
 "cells": [
  {
   "cell_type": "code",
   "execution_count": 1,
   "metadata": {
    "collapsed": true
   },
   "outputs": [],
   "source": [
    "from Bio import pairwise2\n",
    "from Bio.pairwise2 import format_alignment\n",
    "import re\n",
    "import matplotlib.pyplot as plt\n",
    "import matplotlib.gridspec as gridspec"
   ]
  },
  {
   "cell_type": "code",
   "execution_count": 2,
   "metadata": {
    "collapsed": true
   },
   "outputs": [],
   "source": [
    "def print_transcript_dist(transcript_dist, gene_name):\n",
    "    plt.gca().clear()\n",
    "    axes = plt.gca()\n",
    "    axes.set_ylim([0, max(transcript_dist) + 1])\n",
    "    plt.plot(transcript_dist)\n",
    "    plt.ylabel(\"read coverage\")\n",
    "    plt.xlabel(\"transcript location\")\n",
    "    plt.title(gene_name)\n",
    "    plt.savefig(\"dropseq_dists_100/\" + gene_name + \".png\")\n",
    "\n",
    "    return"
   ]
  },
  {
   "cell_type": "code",
   "execution_count": 3,
   "metadata": {},
   "outputs": [
    {
     "name": "stdout",
     "output_type": "stream",
     "text": [
      "[54, 81, 83, 86, 98, 104, 121, 123, 126, 137]\n"
     ]
    }
   ],
   "source": [
    "#read in the index \n",
    "indexes = []\n",
    "with open(\"transcript_index.txt\") as f_index:\n",
    "    for line in f_index:\n",
    "        indexes.append(int(line[:-1]))\n",
    "print(indexes[:10])"
   ]
  },
  {
   "cell_type": "code",
   "execution_count": 4,
   "metadata": {},
   "outputs": [
    {
     "name": "stdout",
     "output_type": "stream",
     "text": [
      "[52726612, 52943019, 52948890, 52972759, 53073004, 53132851, 53254047, 53259900, 53283896, 53363836]\n"
     ]
    }
   ],
   "source": [
    "#read in the start positions\n",
    "start_positions = []\n",
    "with open(\"transcript_start_position.txt\") as f_start_position:\n",
    "    for line in f_start_position:\n",
    "        start_positions.append(int(line[:-1]))\n",
    "print(start_positions[:10])"
   ]
  },
  {
   "cell_type": "code",
   "execution_count": 5,
   "metadata": {},
   "outputs": [
    {
     "name": "stdout",
     "output_type": "stream",
     "text": [
      "['ATGGCATAT', 'ATGGCATATCA', 'ATCGGAGGGATACGAG', 'GGGACAGGGGGC', 'GGGACTGGGGGGGC', 'CTAACTGGGAC', 'AGACAGCTCAGGCTAC', 'GAATACCTAC', 'TGGAATACCTAC', 'TCTACTATGGTAACTAC']\n",
      "['ENSMUST00000196221.1', 'ENSMUST00000179664.1', 'ENSMUST00000177564.1', 'ENSMUST00000178537.1', 'ENSMUST00000178862.1', 'ENSMUST00000179520.1', 'ENSMUST00000179883.1', 'ENSMUST00000195858.1', 'ENSMUST00000179932.1', 'ENSMUST00000180001.1']\n"
     ]
    }
   ],
   "source": [
    "#read in the transcripts\n",
    "gene_names = []\n",
    "transcripts = []\n",
    "with open(\"Mus_musculus.GRCm38.cdna.all.fa\") as f_transcript:\n",
    "    cur_transcript = \"\"\n",
    "    for line in f_transcript:\n",
    "        if(line[0] == \">\"):\n",
    "            gene_name = line[1:]\n",
    "            gene_name_arr = gene_name.split()\n",
    "            gene_name = gene_name_arr[0]\n",
    "            gene_names.append(gene_name)\n",
    "            if(cur_transcript != \"\"):\n",
    "                transcripts.append(cur_transcript)\n",
    "                cur_transcript = \"\"\n",
    "        else:\n",
    "            cur_transcript = cur_transcript + line[:-1]\n",
    "print(transcripts[:10])\n",
    "print(gene_names[:10])"
   ]
  },
  {
   "cell_type": "code",
   "execution_count": 6,
   "metadata": {},
   "outputs": [],
   "source": [
    "f_in = open(\"reads_for_transcripts.txt\")\n",
    "f_scores = open(\"dropseq_scores_100.txt\", \"w+\")\n",
    "f_str = f_in.readline()[1:-2]\n",
    "reads_per_transcript = re.split('\\[\\[|\\]\\]', f_str)\n",
    "counter = 0\n",
    "count = 1\n",
    "transcript_dist = []\n",
    "for i in range(len(reads_per_transcript)):\n",
    "    cur_reads = reads_per_transcript[i]\n",
    "    cur_reads_arr = re.split('\\]', cur_reads)\n",
    "    transcript_scores = []\n",
    "    \n",
    "    if(not('A' in cur_reads or 'C' in cur_reads or 'G' in cur_reads or 'T' in cur_reads)):\n",
    "        counter = counter + len(cur_reads_arr) - 1\n",
    "        continue\n",
    "    if(len(cur_reads_arr) < 101):\n",
    "        counter = counter + 1\n",
    "        continue\n",
    "    f_scores.write(\">\" + gene_names[counter] + \"\\n\")\n",
    "    for j in range(len(cur_reads_arr)):\n",
    "        cur_read = cur_reads_arr[j].replace('[', '').replace(',', '').replace('\\'', '').replace('\\\"', '')\n",
    "        if(len(cur_read) > 2 and cur_read[0] == ' '):\n",
    "            cur_read = cur_read[1:]\n",
    "        if(len(cur_read) <= 2):\n",
    "            continue\n",
    "        cur_read_arr = cur_read.split(' ')\n",
    "        read = cur_read_arr[0]\n",
    "        init_loc = int(cur_read_arr[1])\n",
    "        end_loc = int(cur_read_arr[2])\n",
    "        \n",
    "        index = indexes[counter]\n",
    "        start_position = start_positions[counter]\n",
    "        #end location is \n",
    "        transcript_read = transcripts[index][init_loc - start_position : end_loc - start_position + 1]\n",
    "        if(len(transcript_dist) == 0):\n",
    "            for i in range(len(transcripts[index])):\n",
    "                transcript_dist.append(0)\n",
    "        alignments = pairwise2.align.localxx(read, transcript_read)\n",
    "        if(len(alignments) > 0):\n",
    "            max_a = alignments[0]\n",
    "            al1, al2, max_score, begin, end = max_a\n",
    "        for a in alignments:\n",
    "            al1, al2, score, begin, end = a\n",
    "            if(score > max_score):\n",
    "                max_score = score\n",
    "                max_a = a\n",
    "        al1, al2, score, begin, end = max_a\n",
    "        f_scores.write(str(max_score) + \", \" + str(end_loc - init_loc) + \", \" + str(len(read)) + \"\\n\")\n",
    "        \n",
    "        transcript_scores.append(max_score) \n",
    "        transcript_dist_fragment = transcript_dist[init_loc - start_position - 1: end_loc - start_position + 1]\n",
    "        transcript_dist_fragment = [x+1 for x in transcript_dist_fragment]\n",
    "        transcript_dist = transcript_dist[:init_loc - start_position] + transcript_dist_fragment + transcript_dist[end_loc - start_position + 1:]\n",
    "        #print(init_loc - start_position)\n",
    "        #print(end_loc - start_position + 1)\n",
    "        \n",
    "    #if there is stuff in the dist add it\n",
    "    if(len(transcript_dist) > 0):\n",
    "        counter = counter + 1\n",
    "        #print(gene_names[counter-1])\n",
    "        print_transcript_dist(transcript_dist, gene_names[counter]) #figure out the gene portion\n",
    "        del transcript_dist[:]\n",
    "        transcript_dist = []\n"
   ]
  },
  {
   "cell_type": "code",
   "execution_count": null,
   "metadata": {
    "collapsed": true
   },
   "outputs": [],
   "source": []
  },
  {
   "cell_type": "code",
   "execution_count": null,
   "metadata": {
    "collapsed": true
   },
   "outputs": [],
   "source": []
  }
 ],
 "metadata": {
  "kernelspec": {
   "display_name": "Python 3",
   "language": "python",
   "name": "python3"
  },
  "language_info": {
   "codemirror_mode": {
    "name": "ipython",
    "version": 3
   },
   "file_extension": ".py",
   "mimetype": "text/x-python",
   "name": "python",
   "nbconvert_exporter": "python",
   "pygments_lexer": "ipython3",
   "version": "3.6.3"
  }
 },
 "nbformat": 4,
 "nbformat_minor": 2
}
