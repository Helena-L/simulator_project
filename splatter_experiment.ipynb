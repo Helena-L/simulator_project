{
 "cells": [
  {
   "cell_type": "code",
   "execution_count": 1,
   "metadata": {
    "collapsed": false
   },
   "outputs": [
    {
     "name": "stderr",
     "output_type": "stream",
     "text": [
      "Loading required package: scater\n",
      "Loading required package: Biobase\n",
      "Loading required package: BiocGenerics\n",
      "Loading required package: parallel\n",
      "\n",
      "Attaching package: ‘BiocGenerics’\n",
      "\n",
      "The following objects are masked from ‘package:parallel’:\n",
      "\n",
      "    clusterApply, clusterApplyLB, clusterCall, clusterEvalQ,\n",
      "    clusterExport, clusterMap, parApply, parCapply, parLapply,\n",
      "    parLapplyLB, parRapply, parSapply, parSapplyLB\n",
      "\n",
      "The following objects are masked from ‘package:stats’:\n",
      "\n",
      "    IQR, mad, sd, var, xtabs\n",
      "\n",
      "The following objects are masked from ‘package:base’:\n",
      "\n",
      "    anyDuplicated, append, as.data.frame, cbind, colMeans, colnames,\n",
      "    colSums, do.call, duplicated, eval, evalq, Filter, Find, get, grep,\n",
      "    grepl, intersect, is.unsorted, lapply, lengths, Map, mapply, match,\n",
      "    mget, order, paste, pmax, pmax.int, pmin, pmin.int, Position, rank,\n",
      "    rbind, Reduce, rowMeans, rownames, rowSums, sapply, setdiff, sort,\n",
      "    table, tapply, union, unique, unsplit, which, which.max, which.min\n",
      "\n",
      "Welcome to Bioconductor\n",
      "\n",
      "    Vignettes contain introductory material; view with\n",
      "    'browseVignettes()'. To cite Bioconductor, see\n",
      "    'citation(\"Biobase\")', and for packages 'citation(\"pkgname\")'.\n",
      "\n",
      "Loading required package: ggplot2\n",
      "Loading required package: SingleCellExperiment\n",
      "Loading required package: SummarizedExperiment\n",
      "Loading required package: GenomicRanges\n",
      "Loading required package: stats4\n",
      "Loading required package: S4Vectors\n",
      "\n",
      "Attaching package: ‘S4Vectors’\n",
      "\n",
      "The following object is masked from ‘package:base’:\n",
      "\n",
      "    expand.grid\n",
      "\n",
      "Loading required package: IRanges\n",
      "Loading required package: GenomeInfoDb\n",
      "Loading required package: DelayedArray\n",
      "Loading required package: matrixStats\n",
      "\n",
      "Attaching package: ‘matrixStats’\n",
      "\n",
      "The following objects are masked from ‘package:Biobase’:\n",
      "\n",
      "    anyMissing, rowMedians\n",
      "\n",
      "\n",
      "Attaching package: ‘DelayedArray’\n",
      "\n",
      "The following objects are masked from ‘package:matrixStats’:\n",
      "\n",
      "    colMaxs, colMins, colRanges, rowMaxs, rowMins, rowRanges\n",
      "\n",
      "The following object is masked from ‘package:base’:\n",
      "\n",
      "    apply\n",
      "\n",
      "\n",
      "Attaching package: ‘scater’\n",
      "\n",
      "The following object is masked from ‘package:S4Vectors’:\n",
      "\n",
      "    rename\n",
      "\n",
      "The following object is masked from ‘package:stats’:\n",
      "\n",
      "    filter\n",
      "\n"
     ]
    }
   ],
   "source": [
    "# Load package\n",
    "library(splatter)"
   ]
  },
  {
   "cell_type": "code",
   "execution_count": 2,
   "metadata": {
    "collapsed": false
   },
   "outputs": [
    {
     "data": {
      "text/plain": [
       "A Params object of class SplatParams \n",
       "Parameters can be (estimable) or [not estimable], 'Default' or 'NOT DEFAULT'. \n",
       "\n",
       "Global: \n",
       "(Genes)  (Cells)   [Seed]  \n",
       "  10000      100   905297  \n",
       "\n",
       "27 additional parameters \n",
       "\n",
       "Batches: \n",
       "    [Batches]  [Batch Cells]     [Location]        [Scale]  \n",
       "            1            100            0.1            0.1  \n",
       "\n",
       "Mean: \n",
       " (Rate)  (Shape)  \n",
       "    0.3      0.6  \n",
       "\n",
       "Library size: \n",
       "(Location)     (Scale)  \n",
       "        11         0.2  \n",
       "\n",
       "Exprs outliers: \n",
       "(Probability)     (Location)        (Scale)  \n",
       "         0.05              4            0.5  \n",
       "\n",
       "Groups: \n",
       "     [Groups]  [Group Probs]  \n",
       "            1              1  \n",
       "\n",
       "Diff expr: \n",
       "[Probability]    [Down Prob]     [Location]        [Scale]  \n",
       "          0.1            0.5            0.1            0.4  \n",
       "\n",
       "BCV: \n",
       "(Common Disp)          (DoF)  \n",
       "          0.1             60  \n",
       "\n",
       "Dropout: \n",
       " [Present]  (Midpoint)     (Shape)  \n",
       "     FALSE           0          -1  \n",
       "\n",
       "Paths: \n",
       "        [From]        [Length]          [Skew]    [Non-linear]  [Sigma Factor]  \n",
       "             0             100             0.5             0.1             0.8  \n"
      ]
     },
     "metadata": {},
     "output_type": "display_data"
    }
   ],
   "source": [
    "# Splatter default parameters\n",
    "params <- newSplatParams()\n",
    "params"
   ]
  },
  {
   "cell_type": "code",
   "execution_count": 6,
   "metadata": {
    "collapsed": false
   },
   "outputs": [
    {
     "data": {
      "text/plain": [
       "A Params object of class SplatParams \n",
       "Parameters can be (estimable) or [not estimable], 'Default' or 'NOT DEFAULT'. \n",
       "\n",
       "Global: \n",
       "(GENES)  (CELLS)   [Seed]  \n",
       "     10        5   905297  \n",
       "\n",
       "27 additional parameters \n",
       "\n",
       "Batches: \n",
       "    [Batches]  [BATCH CELLS]     [Location]        [Scale]  \n",
       "            1              5            0.1            0.1  \n",
       "\n",
       "Mean: \n",
       " (Rate)  (Shape)  \n",
       "    0.3      0.6  \n",
       "\n",
       "Library size: \n",
       "(Location)     (Scale)  \n",
       "        11         0.2  \n",
       "\n",
       "Exprs outliers: \n",
       "(Probability)     (Location)        (Scale)  \n",
       "         0.05              4            0.5  \n",
       "\n",
       "Groups: \n",
       "     [Groups]  [Group Probs]  \n",
       "            1              1  \n",
       "\n",
       "Diff expr: \n",
       "[Probability]    [Down Prob]     [Location]        [Scale]  \n",
       "          0.1            0.5            0.1            0.4  \n",
       "\n",
       "BCV: \n",
       "(Common Disp)          (DoF)  \n",
       "          0.1             60  \n",
       "\n",
       "Dropout: \n",
       " [Present]  (Midpoint)     (Shape)  \n",
       "     FALSE           0          -1  \n",
       "\n",
       "Paths: \n",
       "        [From]        [Length]          [Skew]    [Non-linear]  [Sigma Factor]  \n",
       "             0             100             0.5             0.1             0.8  \n"
      ]
     },
     "metadata": {},
     "output_type": "display_data"
    }
   ],
   "source": [
    "# Set # of genes to 10 and # of cells to 5\n",
    "params <- setParam(params, \"nGenes\", 10)\n",
    "# We cannot set nCells directly. Set batchCells instead. nCells = batchCells * nBatches\n",
    "params <- setParam(params, \"batchCells\", 5)\n",
    "params"
   ]
  },
  {
   "cell_type": "code",
   "execution_count": 7,
   "metadata": {
    "collapsed": false
   },
   "outputs": [
    {
     "data": {
      "text/plain": [
       "A Params object of class SplatParams \n",
       "Parameters can be (estimable) or [not estimable], 'Default' or 'NOT DEFAULT'. \n",
       "\n",
       "Global: \n",
       "(GENES)  (CELLS)   [Seed]  \n",
       "     10        5   905297  \n",
       "\n",
       "27 additional parameters \n",
       "\n",
       "Batches: \n",
       "    [Batches]  [BATCH CELLS]     [Location]        [Scale]  \n",
       "            1              5            0.1            0.1  \n",
       "\n",
       "Mean: \n",
       " (Rate)  (Shape)  \n",
       "    0.3      0.6  \n",
       "\n",
       "Library size: \n",
       "(Location)     (Scale)  \n",
       "        11         0.2  \n",
       "\n",
       "Exprs outliers: \n",
       "(Probability)     (Location)        (Scale)  \n",
       "         0.05              4            0.5  \n",
       "\n",
       "Groups: \n",
       "     [Groups]  [Group Probs]  \n",
       "            1              1  \n",
       "\n",
       "Diff expr: \n",
       "[Probability]    [Down Prob]     [Location]        [Scale]  \n",
       "          0.1            0.5            0.1            0.4  \n",
       "\n",
       "BCV: \n",
       "(Common Disp)          (DoF)  \n",
       "          0.1             60  \n",
       "\n",
       "Dropout: \n",
       " [PRESENT]  (Midpoint)     (Shape)  \n",
       "      TRUE           0          -1  \n",
       "\n",
       "Paths: \n",
       "        [From]        [Length]          [Skew]    [Non-linear]  [Sigma Factor]  \n",
       "             0             100             0.5             0.1             0.8  \n"
      ]
     },
     "metadata": {},
     "output_type": "display_data"
    }
   ],
   "source": [
    "# Single cell experiment: we set Dropout to TRUE.\n",
    "params <- setParam(params, \"dropout.present\", TRUE)\n",
    "params"
   ]
  },
  {
   "cell_type": "code",
   "execution_count": 8,
   "metadata": {
    "collapsed": false
   },
   "outputs": [
    {
     "name": "stderr",
     "output_type": "stream",
     "text": [
      "Getting parameters...\n",
      "Creating simulation object...\n",
      "Simulating library sizes...\n",
      "Simulating gene means...\n",
      "Simulating BCV...\n",
      "Simulating counts..\n",
      "Simulating dropout (if needed)...\n",
      "Done!\n"
     ]
    }
   ],
   "source": [
    "# Simulate data\n",
    "sim <- splatSimulate(params)"
   ]
  },
  {
   "cell_type": "code",
   "execution_count": 9,
   "metadata": {
    "collapsed": false
   },
   "outputs": [
    {
     "data": {
      "text/plain": [
       "class: SingleCellExperiment \n",
       "dim: 10 5 \n",
       "metadata(1): params\n",
       "assays(8): BatchCellMeans BaseCellMeans ... Dropout counts\n",
       "rownames(10): Gene1 Gene2 ... Gene9 Gene10\n",
       "rowData names(4): Gene BaseGeneMean OutlierFactor GeneMean\n",
       "colnames(5): Cell1 Cell2 Cell3 Cell4 Cell5\n",
       "colData names(3): Cell Batch ExpLibSize\n",
       "reducedDimNames(0):\n",
       "spikeNames(0):"
      ]
     },
     "metadata": {},
     "output_type": "display_data"
    }
   ],
   "source": [
    "sim"
   ]
  },
  {
   "cell_type": "code",
   "execution_count": 10,
   "metadata": {
    "collapsed": false
   },
   "outputs": [
    {
     "data": {
      "text/html": [
       "<table>\n",
       "<thead><tr><th></th><th scope=col>Cell1</th><th scope=col>Cell2</th><th scope=col>Cell3</th><th scope=col>Cell4</th><th scope=col>Cell5</th></tr></thead>\n",
       "<tbody>\n",
       "\t<tr><th scope=row>Gene1</th><td> 5635</td><td> 7303</td><td> 6509</td><td> 5594</td><td> 6810</td></tr>\n",
       "\t<tr><th scope=row>Gene2</th><td>  668</td><td>  704</td><td>  674</td><td>  498</td><td>  684</td></tr>\n",
       "\t<tr><th scope=row>Gene3</th><td> 1380</td><td> 1564</td><td> 1344</td><td> 1567</td><td> 1251</td></tr>\n",
       "\t<tr><th scope=row>Gene4</th><td>28473</td><td>24086</td><td>17011</td><td>23617</td><td>28612</td></tr>\n",
       "\t<tr><th scope=row>Gene5</th><td> 1837</td><td> 1657</td><td> 1323</td><td> 2156</td><td> 2223</td></tr>\n",
       "\t<tr><th scope=row>Gene6</th><td>   31</td><td>   58</td><td>   45</td><td>   55</td><td>   55</td></tr>\n",
       "\t<tr><th scope=row>Gene7</th><td>12837</td><td>18094</td><td>14113</td><td>13462</td><td>14731</td></tr>\n",
       "\t<tr><th scope=row>Gene8</th><td>  306</td><td>  244</td><td>  209</td><td>  369</td><td>  331</td></tr>\n",
       "\t<tr><th scope=row>Gene9</th><td> 5291</td><td> 5456</td><td> 3734</td><td> 5229</td><td> 4506</td></tr>\n",
       "\t<tr><th scope=row>Gene10</th><td> 1267</td><td> 1734</td><td> 1306</td><td> 1830</td><td> 1734</td></tr>\n",
       "</tbody>\n",
       "</table>\n"
      ],
      "text/latex": [
       "\\begin{tabular}{r|lllll}\n",
       "  & Cell1 & Cell2 & Cell3 & Cell4 & Cell5\\\\\n",
       "\\hline\n",
       "\tGene1 &  5635 &  7303 &  6509 &  5594 &  6810\\\\\n",
       "\tGene2 &   668 &   704 &   674 &   498 &   684\\\\\n",
       "\tGene3 &  1380 &  1564 &  1344 &  1567 &  1251\\\\\n",
       "\tGene4 & 28473 & 24086 & 17011 & 23617 & 28612\\\\\n",
       "\tGene5 &  1837 &  1657 &  1323 &  2156 &  2223\\\\\n",
       "\tGene6 &    31 &    58 &    45 &    55 &    55\\\\\n",
       "\tGene7 & 12837 & 18094 & 14113 & 13462 & 14731\\\\\n",
       "\tGene8 &   306 &   244 &   209 &   369 &   331\\\\\n",
       "\tGene9 &  5291 &  5456 &  3734 &  5229 &  4506\\\\\n",
       "\tGene10 &  1267 &  1734 &  1306 &  1830 &  1734\\\\\n",
       "\\end{tabular}\n"
      ],
      "text/markdown": [
       "\n",
       "| <!--/--> | Cell1 | Cell2 | Cell3 | Cell4 | Cell5 | \n",
       "|---|---|---|---|---|---|---|---|---|---|\n",
       "| Gene1 |  5635 |  7303 |  6509 |  5594 |  6810 | \n",
       "| Gene2 |   668 |   704 |   674 |   498 |   684 | \n",
       "| Gene3 |  1380 |  1564 |  1344 |  1567 |  1251 | \n",
       "| Gene4 | 28473 | 24086 | 17011 | 23617 | 28612 | \n",
       "| Gene5 |  1837 |  1657 |  1323 |  2156 |  2223 | \n",
       "| Gene6 |    31 |    58 |    45 |    55 |    55 | \n",
       "| Gene7 | 12837 | 18094 | 14113 | 13462 | 14731 | \n",
       "| Gene8 |   306 |   244 |   209 |   369 |   331 | \n",
       "| Gene9 |  5291 |  5456 |  3734 |  5229 |  4506 | \n",
       "| Gene10 |  1267 |  1734 |  1306 |  1830 |  1734 | \n",
       "\n",
       "\n"
      ],
      "text/plain": [
       "       Cell1 Cell2 Cell3 Cell4 Cell5\n",
       "Gene1   5635  7303  6509  5594  6810\n",
       "Gene2    668   704   674   498   684\n",
       "Gene3   1380  1564  1344  1567  1251\n",
       "Gene4  28473 24086 17011 23617 28612\n",
       "Gene5   1837  1657  1323  2156  2223\n",
       "Gene6     31    58    45    55    55\n",
       "Gene7  12837 18094 14113 13462 14731\n",
       "Gene8    306   244   209   369   331\n",
       "Gene9   5291  5456  3734  5229  4506\n",
       "Gene10  1267  1734  1306  1830  1734"
      ]
     },
     "metadata": {},
     "output_type": "display_data"
    }
   ],
   "source": [
    "counts(sim)"
   ]
  },
  {
   "cell_type": "code",
   "execution_count": 11,
   "metadata": {
    "collapsed": false
   },
   "outputs": [
    {
     "data": {
      "text/plain": [
       "DataFrame with 10 rows and 4 columns\n",
       "       Gene BaseGeneMean OutlierFactor    GeneMean\n",
       "   <factor>    <numeric>     <numeric>   <numeric>\n",
       "1     Gene1  1.176683013             1 1.176683013\n",
       "2     Gene2  0.128361004             1 0.128361004\n",
       "3     Gene3  0.281492227             1 0.281492227\n",
       "4     Gene4  4.765638353             1 4.765638353\n",
       "5     Gene5  0.326557322             1 0.326557322\n",
       "6     Gene6  0.008216787             1 0.008216787\n",
       "7     Gene7  2.759309503             1 2.759309503\n",
       "8     Gene8  0.057006316             1 0.057006316\n",
       "9     Gene9  0.984586054             1 0.984586054\n",
       "10   Gene10  0.287943980             1 0.287943980"
      ]
     },
     "metadata": {},
     "output_type": "display_data"
    }
   ],
   "source": [
    "# Information about genes\n",
    "rowData(sim)"
   ]
  },
  {
   "cell_type": "code",
   "execution_count": 12,
   "metadata": {
    "collapsed": false
   },
   "outputs": [
    {
     "data": {
      "text/plain": [
       "DataFrame with 5 rows and 3 columns\n",
       "          Cell       Batch ExpLibSize\n",
       "      <factor> <character>  <numeric>\n",
       "Cell1    Cell1      Batch1   55724.57\n",
       "Cell2    Cell2      Batch1   59876.43\n",
       "Cell3    Cell3      Batch1   47642.63\n",
       "Cell4    Cell4      Batch1   60531.50\n",
       "Cell5    Cell5      Batch1   61512.63"
      ]
     },
     "metadata": {},
     "output_type": "display_data"
    }
   ],
   "source": [
    "# Information about cells\n",
    "### what is ExpLibSize???\n",
    "head(colData(sim))"
   ]
  },
  {
   "cell_type": "code",
   "execution_count": null,
   "metadata": {
    "collapsed": true
   },
   "outputs": [],
   "source": []
  }
 ],
 "metadata": {
  "anaconda-cloud": {},
  "kernelspec": {
   "display_name": "R",
   "language": "R",
   "name": "ir"
  },
  "language_info": {
   "codemirror_mode": "r",
   "file_extension": ".r",
   "mimetype": "text/x-r-source",
   "name": "R",
   "pygments_lexer": "r",
   "version": "3.4.4"
  }
 },
 "nbformat": 4,
 "nbformat_minor": 1
}
