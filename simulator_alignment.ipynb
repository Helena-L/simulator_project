{
 "cells": [
  {
   "cell_type": "code",
   "execution_count": 2,
   "metadata": {
    "collapsed": true,
    "scrolled": true
   },
   "outputs": [],
   "source": [
    "from Bio import pairwise2\n",
    "from Bio.pairwise2 import format_alignment\n",
    "\n",
    "import matplotlib.pyplot as plt"
   ]
  },
  {
   "cell_type": "code",
   "execution_count": 3,
   "metadata": {},
   "outputs": [
    {
     "name": "stdout",
     "output_type": "stream",
     "text": [
      "ENSMUST00000196221.1\n",
      "ATGGCATAT\n",
      "ATGGCATAT\n"
     ]
    }
   ],
   "source": [
    "#read in the transcripts\n",
    "gene_names = []\n",
    "transcripts = []\n",
    "name_to_transcript = {}\n",
    "with open(\"Mus_musculus.GRCm38.cdna.all.fa\") as f_transcript:\n",
    "    cur_transcript = \"\"\n",
    "    for line in f_transcript:\n",
    "        if(line[0] == \">\"):\n",
    "            gene_name = line[1:]\n",
    "            gene_name_arr = gene_name.split()\n",
    "            gene_name = gene_name_arr[0]\n",
    "            gene_names.append(gene_name)\n",
    "            if(cur_transcript != \"\"):\n",
    "                #name_to_transcript[gene_name] = transcript\n",
    "                transcripts.append(cur_transcript)\n",
    "                cur_transcript = \"\"\n",
    "        else:\n",
    "            cur_transcript = cur_transcript + line[:-1]\n",
    "transcripts.append(cur_transcript)\n",
    "for i in range(len(gene_names)):\n",
    "    name_to_transcript[gene_names[i]] = transcripts[i]\n",
    "for i in name_to_transcript:\n",
    "    print(i)\n",
    "    print(name_to_transcript[i])\n",
    "    break\n",
    "print(name_to_transcript['ENSMUST00000196221.1'])"
   ]
  },
  {
   "cell_type": "code",
   "execution_count": 4,
   "metadata": {
    "collapsed": true
   },
   "outputs": [],
   "source": [
    "def get_gene_info(info):\n",
    "    if(info == \"\"):\n",
    "        return \"\"\n",
    "    info_arr = info.split()\n",
    "    gene_info = info_arr[0]\n",
    "    if(gene_info[0] == \">\"):\n",
    "        return gene_info[1:]\n",
    "    else:\n",
    "        first_slash = gene_info.find('/')\n",
    "    return gene_info[first_slash + 1:]\t"
   ]
  },
  {
   "cell_type": "code",
   "execution_count": 5,
   "metadata": {
    "collapsed": true
   },
   "outputs": [],
   "source": [
    "def get_read(f_reads, seek):\n",
    "    #get info, location, and read\n",
    "    gene_info = \"\"\n",
    "    info = \"\"\n",
    "    init_loc = 0\n",
    "    end_loc = 0\n",
    "    read = \"\"\n",
    "    if(seek == -1):\n",
    "        seek = f_reads.seek(0,1)\n",
    "    else:\n",
    "        seek = f_reads.seek(seek,0)\n",
    "    info_line = f_reads.readline()\n",
    "    if(info_line == \"\"):\n",
    "        return \"\"\n",
    "    #break this into the mates location and everythin\n",
    "    info_arr = info_line.split(\"mate\")\n",
    "    #print(info_arr[1])\n",
    "    first_colon = info_arr[1].find(':')\n",
    "    location = info_arr[1][first_colon + 1:-1]\n",
    "    location_arr = location.split('-')\n",
    "    init_loc = int(location_arr[0])\n",
    "    end_loc = int(location_arr[1])\n",
    "    \n",
    "    f_reads.seek(0,1)\n",
    "    read = f_reads.readline()\n",
    "\n",
    "    gene_info = get_gene_info(info_arr[0][1:])\n",
    "\n",
    "    return (gene_info, init_loc, end_loc, read, seek)"
   ]
  },
  {
   "cell_type": "code",
   "execution_count": 6,
   "metadata": {
    "collapsed": true
   },
   "outputs": [],
   "source": [
    "def get_alignment_score(read, transcript_segment):\n",
    "    alignments = pairwise2.align.localxx(read, transcript_segment)\n",
    "    scores = []\n",
    "    for a in alignments:\n",
    "        al1, al2, score, begin, end = a\n",
    "        scores = scores + [score]\n",
    "        #print(format_alignment(*a))\n",
    "        break\n",
    "    score = max(scores)\n",
    "    #print(score)\n",
    "    return score"
   ]
  },
  {
   "cell_type": "code",
   "execution_count": 20,
   "metadata": {},
   "outputs": [],
   "source": [
    "def print_transcript_dist(transcript_dist, gene_name):\n",
    "    plt.gca().clear()\n",
    "    axes = plt.gca()\n",
    "    axes.set_ylim([0, max(transcript_dist) + 1])\n",
    "    plt.plot(transcript_dist)\n",
    "    plt.ylabel(\"read coverage\")\n",
    "    plt.xlabel(\"transcript location\")\n",
    "    plt.title(gene_name)\n",
    "    plt.savefig(\"simulated_dists/\" + gene_name + \".png\")\n",
    "    return"
   ]
  },
  {
   "cell_type": "code",
   "execution_count": 8,
   "metadata": {
    "collapsed": true
   },
   "outputs": [],
   "source": [
    "def get_info(line):\n",
    "    line_arr = line.split()\n",
    "    transcript_name = line_arr[0].split('/')[1]\n",
    "    #print(line_arr)\n",
    "    i = 0\n",
    "    while(True):\n",
    "        if(\"mate\" in line_arr[i]):\n",
    "            break\n",
    "        i = i + 1\n",
    "    loc = line_arr[i]\n",
    "\n",
    "    loc_arr = loc.split('mate')[1][2:-1].split('-')\n",
    "    init_loc = loc_arr[0]\n",
    "    end_loc = loc_arr[1]\n",
    "    return (transcript_name, int(init_loc), int(end_loc))"
   ]
  },
  {
   "cell_type": "code",
   "execution_count": 35,
   "metadata": {
    "collapsed": true
   },
   "outputs": [],
   "source": [
    "def alignment_and_distribution(filename, name_to_transcript, f_scores):\n",
    "    cur_transcript_name = \"\"\n",
    "    count = 0\n",
    "    read = \"\"\n",
    "    transcript_dist = []\n",
    "    num_reads = 0\n",
    "\n",
    "    with open(filename) as f_simulated_reads:\n",
    "        for line in f_simulated_reads:\n",
    "            if(line[0] == '>'):\n",
    "                #add the last transcript to the scores and the distribution plot\n",
    "                (transcript_name, init_loc, end_loc) = get_info(line)\n",
    "                if(cur_transcript_name != transcript_name):\n",
    "                    f_scores.write(transcript_name)\n",
    "                    transcript = name_to_transcript[transcript_name]\n",
    "                    if(len(transcript_dist) > 0 and num_reads > 100 and max(transcript_dist) > 17):\n",
    "                        print_transcript_dist(transcript_dist, cur_transcript_name)\n",
    "                    num_reads = 0\n",
    "                    transcript_dist = []\n",
    "                    cur_transcript_name = transcript_name\n",
    "                    for i in range(len(transcript)):\n",
    "                        transcript_dist.append(0)\n",
    "            else:\n",
    "                read = line[:-1]\n",
    "                num_reads = num_reads + 1\n",
    "                transcript_read = transcript[init_loc - 1: end_loc]\n",
    "       \n",
    "                alignments = pairwise2.align.localxx(read, transcript_read)\n",
    "                max_a = alignments[0]\n",
    "                max_score = 0\n",
    "                for a in alignments:\n",
    "                    al1, al2, score, begin, end = a\n",
    "                    if(score > max_score):\n",
    "                        max_score = score\n",
    "                        max_a = a\n",
    "                al1, al2, score, begin, end = max_a\n",
    "                f_scores.write(str(score))\n",
    "            \n",
    "                transcript_dist_fragment = transcript_dist[init_loc - 1: end_loc]\n",
    "                transcript_dist_fragment = [x+1 for x in transcript_dist_fragment]\n",
    "                transcript_dist = transcript_dist[:init_loc - 1] + transcript_dist_fragment + transcript_dist[end_loc:]\n",
    "\n",
    "\n",
    "    if(len(transcript_dist) > 0 and max(transcript_dist) > 17 and num_reads > 100):\n",
    "        filename_arr = filename.split('/')\n",
    "        print_transcript_dist(transcript_dist, filename_arr[-1] + '_' + transcript_name)"
   ]
  },
  {
   "cell_type": "code",
   "execution_count": 36,
   "metadata": {},
   "outputs": [
    {
     "name": "stdout",
     "output_type": "stream",
     "text": [
      "sample_01.fasta\n",
      "sample_09.fasta\n",
      "sample_13.fasta\n",
      "sample_15.fasta\n",
      "sample_19.fasta\n"
     ]
    }
   ],
   "source": [
    "import os\n",
    "pathname = 'simulated_11gene_20cell_no_rc'\n",
    "files = os.listdir(pathname)\n",
    "f_scores = open(\"simulated_scores\", \"w+\")\n",
    "for file in files:\n",
    "    alignment_and_distribution(pathname + \"/\" + file, name_to_transcript, f_scores)"
   ]
  },
  {
   "cell_type": "code",
   "execution_count": 3,
   "metadata": {},
   "outputs": [
    {
     "name": "stdout",
     "output_type": "stream",
     "text": [
      "5646\n"
     ]
    }
   ],
   "source": [
    "transcript = name_to_transcript[\"ENSMUST00000000109.10\"]\n",
    "print(len(transcript))"
   ]
  },
  {
   "cell_type": "code",
   "execution_count": null,
   "metadata": {
    "collapsed": true
   },
   "outputs": [],
   "source": []
  }
 ],
 "metadata": {
  "kernelspec": {
   "display_name": "Python 3",
   "language": "python",
   "name": "python3"
  },
  "language_info": {
   "codemirror_mode": {
    "name": "ipython",
    "version": 3
   },
   "file_extension": ".py",
   "mimetype": "text/x-python",
   "name": "python",
   "nbconvert_exporter": "python",
   "pygments_lexer": "ipython3",
   "version": "3.6.3"
  }
 },
 "nbformat": 4,
 "nbformat_minor": 2
}
