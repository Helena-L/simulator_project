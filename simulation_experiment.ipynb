{
 "cells": [
  {
   "cell_type": "code",
   "execution_count": 22,
   "metadata": {
    "collapsed": false
   },
   "outputs": [],
   "source": [
    "import_files = list.files(\"./polyester/R\")\n",
    "for (i in import_files){\n",
    "    source(paste(\"./polyester/R/\", i, sep=''))\n",
    "}"
   ]
  },
  {
   "cell_type": "code",
   "execution_count": 2,
   "metadata": {
    "collapsed": false
   },
   "outputs": [
    {
     "name": "stderr",
     "output_type": "stream",
     "text": [
      "Loading required package: scater\n",
      "Loading required package: Biobase\n",
      "Loading required package: BiocGenerics\n",
      "Loading required package: parallel\n",
      "\n",
      "Attaching package: ‘BiocGenerics’\n",
      "\n",
      "The following objects are masked from ‘package:parallel’:\n",
      "\n",
      "    clusterApply, clusterApplyLB, clusterCall, clusterEvalQ,\n",
      "    clusterExport, clusterMap, parApply, parCapply, parLapply,\n",
      "    parLapplyLB, parRapply, parSapply, parSapplyLB\n",
      "\n",
      "The following objects are masked from ‘package:stats’:\n",
      "\n",
      "    IQR, mad, sd, var, xtabs\n",
      "\n",
      "The following objects are masked from ‘package:base’:\n",
      "\n",
      "    anyDuplicated, append, as.data.frame, cbind, colMeans, colnames,\n",
      "    colSums, do.call, duplicated, eval, evalq, Filter, Find, get, grep,\n",
      "    grepl, intersect, is.unsorted, lapply, lengths, Map, mapply, match,\n",
      "    mget, order, paste, pmax, pmax.int, pmin, pmin.int, Position, rank,\n",
      "    rbind, Reduce, rowMeans, rownames, rowSums, sapply, setdiff, sort,\n",
      "    table, tapply, union, unique, unsplit, which, which.max, which.min\n",
      "\n",
      "Welcome to Bioconductor\n",
      "\n",
      "    Vignettes contain introductory material; view with\n",
      "    'browseVignettes()'. To cite Bioconductor, see\n",
      "    'citation(\"Biobase\")', and for packages 'citation(\"pkgname\")'.\n",
      "\n",
      "Loading required package: ggplot2\n",
      "Loading required package: SingleCellExperiment\n",
      "Loading required package: SummarizedExperiment\n",
      "Loading required package: GenomicRanges\n",
      "Loading required package: stats4\n",
      "Loading required package: S4Vectors\n",
      "\n",
      "Attaching package: ‘S4Vectors’\n",
      "\n",
      "The following object is masked from ‘package:base’:\n",
      "\n",
      "    expand.grid\n",
      "\n",
      "Loading required package: IRanges\n",
      "Loading required package: GenomeInfoDb\n",
      "Loading required package: DelayedArray\n",
      "Loading required package: matrixStats\n",
      "\n",
      "Attaching package: ‘matrixStats’\n",
      "\n",
      "The following objects are masked from ‘package:Biobase’:\n",
      "\n",
      "    anyMissing, rowMedians\n",
      "\n",
      "\n",
      "Attaching package: ‘DelayedArray’\n",
      "\n",
      "The following objects are masked from ‘package:matrixStats’:\n",
      "\n",
      "    colMaxs, colMins, colRanges, rowMaxs, rowMins, rowRanges\n",
      "\n",
      "The following object is masked from ‘package:base’:\n",
      "\n",
      "    apply\n",
      "\n",
      "\n",
      "Attaching package: ‘scater’\n",
      "\n",
      "The following object is masked from ‘package:S4Vectors’:\n",
      "\n",
      "    rename\n",
      "\n",
      "The following object is masked from ‘package:stats’:\n",
      "\n",
      "    filter\n",
      "\n",
      "Getting parameters...\n",
      "Creating simulation object...\n",
      "Simulating library sizes...\n",
      "Simulating gene means...\n",
      "Simulating BCV...\n",
      "Simulating counts..\n",
      "Simulating dropout (if needed)...\n",
      "Done!\n"
     ]
    },
    {
     "data": {
      "text/html": [
       "<table>\n",
       "<thead><tr><th></th><th scope=col>Cell1</th><th scope=col>Cell2</th><th scope=col>Cell3</th><th scope=col>Cell4</th><th scope=col>Cell5</th><th scope=col>Cell6</th><th scope=col>Cell7</th><th scope=col>Cell8</th><th scope=col>Cell9</th><th scope=col>Cell10</th><th scope=col>Cell11</th><th scope=col>Cell12</th><th scope=col>Cell13</th><th scope=col>Cell14</th><th scope=col>Cell15</th><th scope=col>Cell16</th><th scope=col>Cell17</th><th scope=col>Cell18</th><th scope=col>Cell19</th><th scope=col>Cell20</th></tr></thead>\n",
       "<tbody>\n",
       "\t<tr><th scope=row>Gene1</th><td> 0 </td><td> 5 </td><td> 0 </td><td> 0 </td><td> 0 </td><td> 0 </td><td>  2</td><td> 3 </td><td> 4 </td><td> 0 </td><td>  1</td><td> 4 </td><td> 0 </td><td> 3 </td><td> 0 </td><td> 1 </td><td> 1 </td><td>  0</td><td> 0 </td><td> 1 </td></tr>\n",
       "\t<tr><th scope=row>Gene2</th><td>32 </td><td>19 </td><td>17 </td><td>31 </td><td>40 </td><td>12 </td><td> 20</td><td>28 </td><td>22 </td><td>18 </td><td> 29</td><td>22 </td><td>13 </td><td>26 </td><td>24 </td><td>40 </td><td>35 </td><td> 47</td><td>41 </td><td>54 </td></tr>\n",
       "\t<tr><th scope=row>Gene3</th><td> 0 </td><td> 1 </td><td> 3 </td><td> 3 </td><td> 3 </td><td> 3 </td><td>  2</td><td> 3 </td><td> 2 </td><td> 0 </td><td>  1</td><td> 0 </td><td> 3 </td><td> 0 </td><td> 0 </td><td> 1 </td><td> 9 </td><td>  0</td><td> 1 </td><td> 0 </td></tr>\n",
       "\t<tr><th scope=row>Gene4</th><td> 0 </td><td> 0 </td><td> 0 </td><td> 0 </td><td> 0 </td><td> 0 </td><td>  0</td><td> 0 </td><td> 1 </td><td> 0 </td><td>  0</td><td> 0 </td><td> 0 </td><td> 3 </td><td> 0 </td><td> 0 </td><td> 0 </td><td>  0</td><td> 1 </td><td> 0 </td></tr>\n",
       "\t<tr><th scope=row>Gene5</th><td>24 </td><td>23 </td><td>16 </td><td>22 </td><td>26 </td><td> 0 </td><td> 12</td><td>19 </td><td> 8 </td><td>23 </td><td> 29</td><td>16 </td><td>18 </td><td>23 </td><td>15 </td><td>39 </td><td>41 </td><td> 23</td><td>24 </td><td>24 </td></tr>\n",
       "\t<tr><th scope=row>Gene6</th><td> 0 </td><td> 2 </td><td>10 </td><td> 7 </td><td>14 </td><td>11 </td><td>  2</td><td> 8 </td><td>15 </td><td> 1 </td><td> 23</td><td> 2 </td><td> 7 </td><td> 7 </td><td>11 </td><td> 0 </td><td> 9 </td><td>  4</td><td> 9 </td><td>15 </td></tr>\n",
       "\t<tr><th scope=row>Gene7</th><td> 5 </td><td> 0 </td><td> 0 </td><td> 0 </td><td> 0 </td><td> 0 </td><td>  2</td><td> 0 </td><td> 0 </td><td> 0 </td><td>  0</td><td> 1 </td><td> 0 </td><td> 0 </td><td> 3 </td><td> 0 </td><td> 0 </td><td>  0</td><td> 0 </td><td> 0 </td></tr>\n",
       "\t<tr><th scope=row>Gene8</th><td> 0 </td><td> 0 </td><td> 0 </td><td> 0 </td><td> 0 </td><td> 0 </td><td>  0</td><td> 0 </td><td> 0 </td><td> 0 </td><td>  0</td><td> 0 </td><td> 0 </td><td> 0 </td><td> 0 </td><td> 0 </td><td> 0 </td><td>  0</td><td> 0 </td><td> 0 </td></tr>\n",
       "\t<tr><th scope=row>Gene9</th><td>44 </td><td>97 </td><td>65 </td><td>65 </td><td>82 </td><td>73 </td><td>116</td><td> 0 </td><td>50 </td><td>42 </td><td>100</td><td>43 </td><td>66 </td><td>68 </td><td>37 </td><td>84 </td><td>68 </td><td>138</td><td>86 </td><td>92 </td></tr>\n",
       "\t<tr><th scope=row>Gene10</th><td> 0 </td><td> 0 </td><td> 0 </td><td> 0 </td><td> 0 </td><td> 1 </td><td>  0</td><td> 5 </td><td> 0 </td><td> 0 </td><td>  1</td><td> 0 </td><td> 0 </td><td> 0 </td><td> 0 </td><td> 0 </td><td> 2 </td><td>  2</td><td> 0 </td><td> 0 </td></tr>\n",
       "\t<tr><th scope=row>Gene11</th><td> 0 </td><td> 2 </td><td> 2 </td><td> 7 </td><td> 6 </td><td> 3 </td><td>  1</td><td> 2 </td><td> 0 </td><td> 1 </td><td>  7</td><td> 7 </td><td> 0 </td><td> 3 </td><td> 0 </td><td> 1 </td><td> 0 </td><td>  6</td><td> 0 </td><td> 2 </td></tr>\n",
       "</tbody>\n",
       "</table>\n"
      ],
      "text/latex": [
       "\\begin{tabular}{r|llllllllllllllllllll}\n",
       "  & Cell1 & Cell2 & Cell3 & Cell4 & Cell5 & Cell6 & Cell7 & Cell8 & Cell9 & Cell10 & Cell11 & Cell12 & Cell13 & Cell14 & Cell15 & Cell16 & Cell17 & Cell18 & Cell19 & Cell20\\\\\n",
       "\\hline\n",
       "\tGene1 &  0  &  5  &  0  &  0  &  0  &  0  &   2 &  3  &  4  &  0  &   1 &  4  &  0  &  3  &  0  &  1  &  1  &   0 &  0  &  1 \\\\\n",
       "\tGene2 & 32  & 19  & 17  & 31  & 40  & 12  &  20 & 28  & 22  & 18  &  29 & 22  & 13  & 26  & 24  & 40  & 35  &  47 & 41  & 54 \\\\\n",
       "\tGene3 &  0  &  1  &  3  &  3  &  3  &  3  &   2 &  3  &  2  &  0  &   1 &  0  &  3  &  0  &  0  &  1  &  9  &   0 &  1  &  0 \\\\\n",
       "\tGene4 &  0  &  0  &  0  &  0  &  0  &  0  &   0 &  0  &  1  &  0  &   0 &  0  &  0  &  3  &  0  &  0  &  0  &   0 &  1  &  0 \\\\\n",
       "\tGene5 & 24  & 23  & 16  & 22  & 26  &  0  &  12 & 19  &  8  & 23  &  29 & 16  & 18  & 23  & 15  & 39  & 41  &  23 & 24  & 24 \\\\\n",
       "\tGene6 &  0  &  2  & 10  &  7  & 14  & 11  &   2 &  8  & 15  &  1  &  23 &  2  &  7  &  7  & 11  &  0  &  9  &   4 &  9  & 15 \\\\\n",
       "\tGene7 &  5  &  0  &  0  &  0  &  0  &  0  &   2 &  0  &  0  &  0  &   0 &  1  &  0  &  0  &  3  &  0  &  0  &   0 &  0  &  0 \\\\\n",
       "\tGene8 &  0  &  0  &  0  &  0  &  0  &  0  &   0 &  0  &  0  &  0  &   0 &  0  &  0  &  0  &  0  &  0  &  0  &   0 &  0  &  0 \\\\\n",
       "\tGene9 & 44  & 97  & 65  & 65  & 82  & 73  & 116 &  0  & 50  & 42  & 100 & 43  & 66  & 68  & 37  & 84  & 68  & 138 & 86  & 92 \\\\\n",
       "\tGene10 &  0  &  0  &  0  &  0  &  0  &  1  &   0 &  5  &  0  &  0  &   1 &  0  &  0  &  0  &  0  &  0  &  2  &   2 &  0  &  0 \\\\\n",
       "\tGene11 &  0  &  2  &  2  &  7  &  6  &  3  &   1 &  2  &  0  &  1  &   7 &  7  &  0  &  3  &  0  &  1  &  0  &   6 &  0  &  2 \\\\\n",
       "\\end{tabular}\n"
      ],
      "text/markdown": [
       "\n",
       "| <!--/--> | Cell1 | Cell2 | Cell3 | Cell4 | Cell5 | Cell6 | Cell7 | Cell8 | Cell9 | Cell10 | Cell11 | Cell12 | Cell13 | Cell14 | Cell15 | Cell16 | Cell17 | Cell18 | Cell19 | Cell20 | \n",
       "|---|---|---|---|---|---|---|---|---|---|---|\n",
       "| Gene1 |  0  |  5  |  0  |  0  |  0  |  0  |   2 |  3  |  4  |  0  |   1 |  4  |  0  |  3  |  0  |  1  |  1  |   0 |  0  |  1  | \n",
       "| Gene2 | 32  | 19  | 17  | 31  | 40  | 12  |  20 | 28  | 22  | 18  |  29 | 22  | 13  | 26  | 24  | 40  | 35  |  47 | 41  | 54  | \n",
       "| Gene3 |  0  |  1  |  3  |  3  |  3  |  3  |   2 |  3  |  2  |  0  |   1 |  0  |  3  |  0  |  0  |  1  |  9  |   0 |  1  |  0  | \n",
       "| Gene4 |  0  |  0  |  0  |  0  |  0  |  0  |   0 |  0  |  1  |  0  |   0 |  0  |  0  |  3  |  0  |  0  |  0  |   0 |  1  |  0  | \n",
       "| Gene5 | 24  | 23  | 16  | 22  | 26  |  0  |  12 | 19  |  8  | 23  |  29 | 16  | 18  | 23  | 15  | 39  | 41  |  23 | 24  | 24  | \n",
       "| Gene6 |  0  |  2  | 10  |  7  | 14  | 11  |   2 |  8  | 15  |  1  |  23 |  2  |  7  |  7  | 11  |  0  |  9  |   4 |  9  | 15  | \n",
       "| Gene7 |  5  |  0  |  0  |  0  |  0  |  0  |   2 |  0  |  0  |  0  |   0 |  1  |  0  |  0  |  3  |  0  |  0  |   0 |  0  |  0  | \n",
       "| Gene8 |  0  |  0  |  0  |  0  |  0  |  0  |   0 |  0  |  0  |  0  |   0 |  0  |  0  |  0  |  0  |  0  |  0  |   0 |  0  |  0  | \n",
       "| Gene9 | 44  | 97  | 65  | 65  | 82  | 73  | 116 |  0  | 50  | 42  | 100 | 43  | 66  | 68  | 37  | 84  | 68  | 138 | 86  | 92  | \n",
       "| Gene10 |  0  |  0  |  0  |  0  |  0  |  1  |   0 |  5  |  0  |  0  |   1 |  0  |  0  |  0  |  0  |  0  |  2  |   2 |  0  |  0  | \n",
       "| Gene11 |  0  |  2  |  2  |  7  |  6  |  3  |   1 |  2  |  0  |  1  |   7 |  7  |  0  |  3  |  0  |  1  |  0  |   6 |  0  |  2  | \n",
       "\n",
       "\n"
      ],
      "text/plain": [
       "       Cell1 Cell2 Cell3 Cell4 Cell5 Cell6 Cell7 Cell8 Cell9 Cell10 Cell11\n",
       "Gene1   0     5     0     0     0     0      2    3     4     0       1   \n",
       "Gene2  32    19    17    31    40    12     20   28    22    18      29   \n",
       "Gene3   0     1     3     3     3     3      2    3     2     0       1   \n",
       "Gene4   0     0     0     0     0     0      0    0     1     0       0   \n",
       "Gene5  24    23    16    22    26     0     12   19     8    23      29   \n",
       "Gene6   0     2    10     7    14    11      2    8    15     1      23   \n",
       "Gene7   5     0     0     0     0     0      2    0     0     0       0   \n",
       "Gene8   0     0     0     0     0     0      0    0     0     0       0   \n",
       "Gene9  44    97    65    65    82    73    116    0    50    42     100   \n",
       "Gene10  0     0     0     0     0     1      0    5     0     0       1   \n",
       "Gene11  0     2     2     7     6     3      1    2     0     1       7   \n",
       "       Cell12 Cell13 Cell14 Cell15 Cell16 Cell17 Cell18 Cell19 Cell20\n",
       "Gene1   4      0      3      0      1      1       0     0      1    \n",
       "Gene2  22     13     26     24     40     35      47    41     54    \n",
       "Gene3   0      3      0      0      1      9       0     1      0    \n",
       "Gene4   0      0      3      0      0      0       0     1      0    \n",
       "Gene5  16     18     23     15     39     41      23    24     24    \n",
       "Gene6   2      7      7     11      0      9       4     9     15    \n",
       "Gene7   1      0      0      3      0      0       0     0      0    \n",
       "Gene8   0      0      0      0      0      0       0     0      0    \n",
       "Gene9  43     66     68     37     84     68     138    86     92    \n",
       "Gene10  0      0      0      0      0      2       2     0      0    \n",
       "Gene11  7      0      3      0      1      0       6     0      2    "
      ]
     },
     "metadata": {},
     "output_type": "display_data"
    }
   ],
   "source": [
    "# 50 gene 20 cell experiment with Splatter\n",
    "library(splatter)\n",
    "#### adjust library size\n",
    "params <- newSplatParams()\n",
    "params <- setParam(params, \"nGenes\", 11)\n",
    "params <- setParam(params, \"batchCells\", 20)\n",
    "params <- setParam(params, \"lib.loc\",5)\n",
    "params <- setParam(params, \"dropout.present\", TRUE)\n",
    "sim <- splatSimulate(params)\n",
    "counts(sim)"
   ]
  },
  {
   "cell_type": "code",
   "execution_count": 3,
   "metadata": {
    "collapsed": false
   },
   "outputs": [
    {
     "name": "stderr",
     "output_type": "stream",
     "text": [
      "Loading required package: XVector\n",
      "\n",
      "Attaching package: ‘Biostrings’\n",
      "\n",
      "The following object is masked from ‘package:DelayedArray’:\n",
      "\n",
      "    type\n",
      "\n",
      "The following object is masked from ‘package:base’:\n",
      "\n",
      "    strsplit\n",
      "\n"
     ]
    },
    {
     "data": {
      "text/plain": [
       "  A DNAStringSet instance of length 113193\n",
       "          width seq                                         names               \n",
       "     [1]      9 ATGGCATAT                                   ENSMUST0000019622...\n",
       "     [2]     11 ATGGCATATCA                                 ENSMUST0000017966...\n",
       "     [3]     16 ATCGGAGGGATACGAG                            ENSMUST0000017756...\n",
       "     [4]     12 GGGACAGGGGGC                                ENSMUST0000017853...\n",
       "     [5]     14 GGGACTGGGGGGGC                              ENSMUST0000017886...\n",
       "     ...    ... ...\n",
       "[113189]    451 ATGGCATATAAGAAATACTA...AAAGAGCCAAACTTAGGAAA ENSMUST0000018145...\n",
       "[113190]    549 ATGCAGCTGCTGCTGCTGCT...GTCTCCAGGCCCTAGAATGA ENSMUST0000020097...\n",
       "[113191]    389 ATGTCTATTAAGAAACTGTG...GAAGTAGTTGGAGATACACG ENSMUST0000020126...\n",
       "[113192]    639 ATGTCTATTAAGAAACTGCG...ATGGTGAAGAGATATTATGA ENSMUST0000020198...\n",
       "[113193]    545 ATGAAGCTGCTGCTGCTGCT...GTCTCCAGGCCCTAGAATGA ENSMUST0000020268..."
      ]
     },
     "metadata": {},
     "output_type": "display_data"
    }
   ],
   "source": [
    "# use Polyester\n",
    "# library(polyester)\n",
    "library(Biostrings)\n",
    "fasta_file = file.path('txdata', 'Mus_musculus.GRCm38.cdna.all.fa')\n",
    "fasta = readDNAStringSet(fasta_file)\n",
    "# fasta file for mice transcript\n",
    "fasta"
   ]
  },
  {
   "cell_type": "code",
   "execution_count": 4,
   "metadata": {
    "collapsed": false
   },
   "outputs": [
    {
     "data": {
      "text/html": [
       "<ol class=list-inline>\n",
       "\t<li>'ENSMUST00000229890.1'</li>\n",
       "\t<li>'ENSMUST00000229660.1'</li>\n",
       "\t<li>'ENSMUST00000229253.1'</li>\n",
       "\t<li>'ENSMUST00000217297.1'</li>\n",
       "\t<li>'ENSMUST00000199135.1'</li>\n",
       "\t<li>'ENSMUST00000205364.1'</li>\n",
       "\t<li>'ENSMUST00000216532.1'</li>\n",
       "\t<li>'ENSMUST00000209169.1'</li>\n",
       "\t<li>'ENSMUST00000196248.1'</li>\n",
       "\t<li>'ENSMUST00000182625.1'</li>\n",
       "\t<li>'ENSMUST00000194447.1'</li>\n",
       "</ol>\n"
      ],
      "text/latex": [
       "\\begin{enumerate*}\n",
       "\\item 'ENSMUST00000229890.1'\n",
       "\\item 'ENSMUST00000229660.1'\n",
       "\\item 'ENSMUST00000229253.1'\n",
       "\\item 'ENSMUST00000217297.1'\n",
       "\\item 'ENSMUST00000199135.1'\n",
       "\\item 'ENSMUST00000205364.1'\n",
       "\\item 'ENSMUST00000216532.1'\n",
       "\\item 'ENSMUST00000209169.1'\n",
       "\\item 'ENSMUST00000196248.1'\n",
       "\\item 'ENSMUST00000182625.1'\n",
       "\\item 'ENSMUST00000194447.1'\n",
       "\\end{enumerate*}\n"
      ],
      "text/markdown": [
       "1. 'ENSMUST00000229890.1'\n",
       "2. 'ENSMUST00000229660.1'\n",
       "3. 'ENSMUST00000229253.1'\n",
       "4. 'ENSMUST00000217297.1'\n",
       "5. 'ENSMUST00000199135.1'\n",
       "6. 'ENSMUST00000205364.1'\n",
       "7. 'ENSMUST00000216532.1'\n",
       "8. 'ENSMUST00000209169.1'\n",
       "9. 'ENSMUST00000196248.1'\n",
       "10. 'ENSMUST00000182625.1'\n",
       "11. 'ENSMUST00000194447.1'\n",
       "\n",
       "\n"
      ],
      "text/plain": [
       " [1] \"ENSMUST00000229890.1\" \"ENSMUST00000229660.1\" \"ENSMUST00000229253.1\"\n",
       " [4] \"ENSMUST00000217297.1\" \"ENSMUST00000199135.1\" \"ENSMUST00000205364.1\"\n",
       " [7] \"ENSMUST00000216532.1\" \"ENSMUST00000209169.1\" \"ENSMUST00000196248.1\"\n",
       "[10] \"ENSMUST00000182625.1\" \"ENSMUST00000194447.1\""
      ]
     },
     "metadata": {},
     "output_type": "display_data"
    }
   ],
   "source": [
    "# transcripts with more than 100 reads\n",
    "tx_list <- c('ENSMUST00000229890.1', 'ENSMUST00000229660.1', 'ENSMUST00000229253.1',\n",
    "'ENSMUST00000217297.1', 'ENSMUST00000199135.1', 'ENSMUST00000205364.1', \n",
    "'ENSMUST00000216532.1', 'ENSMUST00000209169.1', \n",
    "'ENSMUST00000196248.1', 'ENSMUST00000182625.1', 'ENSMUST00000194447.1')\n",
    "tx_list"
   ]
  },
  {
   "cell_type": "code",
   "execution_count": 5,
   "metadata": {
    "collapsed": false
   },
   "outputs": [
    {
     "data": {
      "text/html": [
       "<ol class=list-inline>\n",
       "\t<li>61016</li>\n",
       "\t<li>78245</li>\n",
       "\t<li>33184</li>\n",
       "\t<li>112498</li>\n",
       "\t<li>35480</li>\n",
       "\t<li>20369</li>\n",
       "\t<li>102104</li>\n",
       "\t<li>73532</li>\n",
       "\t<li>88421</li>\n",
       "\t<li>39547</li>\n",
       "\t<li>69984</li>\n",
       "</ol>\n"
      ],
      "text/latex": [
       "\\begin{enumerate*}\n",
       "\\item 61016\n",
       "\\item 78245\n",
       "\\item 33184\n",
       "\\item 112498\n",
       "\\item 35480\n",
       "\\item 20369\n",
       "\\item 102104\n",
       "\\item 73532\n",
       "\\item 88421\n",
       "\\item 39547\n",
       "\\item 69984\n",
       "\\end{enumerate*}\n"
      ],
      "text/markdown": [
       "1. 61016\n",
       "2. 78245\n",
       "3. 33184\n",
       "4. 112498\n",
       "5. 35480\n",
       "6. 20369\n",
       "7. 102104\n",
       "8. 73532\n",
       "9. 88421\n",
       "10. 39547\n",
       "11. 69984\n",
       "\n",
       "\n"
      ],
      "text/plain": [
       " [1]  61016  78245  33184 112498  35480  20369 102104  73532  88421  39547\n",
       "[11]  69984"
      ]
     },
     "metadata": {},
     "output_type": "display_data"
    }
   ],
   "source": [
    "tx_idx_list <- c(61016, 78245, 33184, 112498, 35480, 20369, 102104, 73532, 88421, 39547, 69984)\n",
    "tx_idx_list"
   ]
  },
  {
   "cell_type": "code",
   "execution_count": 6,
   "metadata": {
    "collapsed": false
   },
   "outputs": [
    {
     "data": {
      "text/html": [
       "<span style=white-space:pre-wrap>'ENSMUST00000229890.1 cdna chromosome:GRCm38:15:97244125:97247122:-1 gene:ENSMUSG00000048218.6 gene_biotype:protein_coding transcript_biotype:protein_coding gene_symbol:Amigo2 description:Amphoterin-induced protein 2  [Source:UniProtKB/Swiss-Prot;Acc:Q80ZD9]'</span>"
      ],
      "text/latex": [
       "'ENSMUST00000229890.1 cdna chromosome:GRCm38:15:97244125:97247122:-1 gene:ENSMUSG00000048218.6 gene\\_biotype:protein\\_coding transcript\\_biotype:protein\\_coding gene\\_symbol:Amigo2 description:Amphoterin-induced protein 2  {[}Source:UniProtKB/Swiss-Prot;Acc:Q80ZD9{]}'"
      ],
      "text/markdown": [
       "<span style=white-space:pre-wrap>'ENSMUST00000229890.1 cdna chromosome:GRCm38:15:97244125:97247122:-1 gene:ENSMUSG00000048218.6 gene_biotype:protein_coding transcript_biotype:protein_coding gene_symbol:Amigo2 description:Amphoterin-induced protein 2  [Source:UniProtKB/Swiss-Prot;Acc:Q80ZD9]'</span>"
      ],
      "text/plain": [
       "[1] \"ENSMUST00000229890.1 cdna chromosome:GRCm38:15:97244125:97247122:-1 gene:ENSMUSG00000048218.6 gene_biotype:protein_coding transcript_biotype:protein_coding gene_symbol:Amigo2 description:Amphoterin-induced protein 2  [Source:UniProtKB/Swiss-Prot;Acc:Q80ZD9]\""
      ]
     },
     "metadata": {},
     "output_type": "display_data"
    }
   ],
   "source": [
    "names(fasta[61016])"
   ]
  },
  {
   "cell_type": "code",
   "execution_count": 7,
   "metadata": {
    "collapsed": false
   },
   "outputs": [
    {
     "data": {
      "text/html": [
       "<ol class=list-inline>\n",
       "\t<li>61016</li>\n",
       "\t<li>78245</li>\n",
       "\t<li>33184</li>\n",
       "\t<li>112498</li>\n",
       "\t<li>35480</li>\n",
       "\t<li>20369</li>\n",
       "\t<li>102104</li>\n",
       "\t<li>73532</li>\n",
       "\t<li>88421</li>\n",
       "\t<li>39547</li>\n",
       "\t<li>69984</li>\n",
       "</ol>\n"
      ],
      "text/latex": [
       "\\begin{enumerate*}\n",
       "\\item 61016\n",
       "\\item 78245\n",
       "\\item 33184\n",
       "\\item 112498\n",
       "\\item 35480\n",
       "\\item 20369\n",
       "\\item 102104\n",
       "\\item 73532\n",
       "\\item 88421\n",
       "\\item 39547\n",
       "\\item 69984\n",
       "\\end{enumerate*}\n"
      ],
      "text/markdown": [
       "1. 61016\n",
       "2. 78245\n",
       "3. 33184\n",
       "4. 112498\n",
       "5. 35480\n",
       "6. 20369\n",
       "7. 102104\n",
       "8. 73532\n",
       "9. 88421\n",
       "10. 39547\n",
       "11. 69984\n",
       "\n",
       "\n"
      ],
      "text/plain": [
       " [1]  61016  78245  33184 112498  35480  20369 102104  73532  88421  39547\n",
       "[11]  69984"
      ]
     },
     "metadata": {},
     "output_type": "display_data"
    }
   ],
   "source": [
    "tx_idx = tx_idx_list[1:11]\n",
    "tx_idx"
   ]
  },
  {
   "cell_type": "code",
   "execution_count": 8,
   "metadata": {
    "collapsed": false
   },
   "outputs": [
    {
     "data": {
      "text/plain": [
       "  A DNAStringSet instance of length 11\n",
       "     width seq                                              names               \n",
       " [1]  2998 CGAAACTCGCCAAAGTTGAGAGG...AATACATACACGTGCTCTGTGA ENSMUST0000022989...\n",
       " [2]  1759 GGGAACTACCGAGGCGAAGGTAC...TGAGTAAATATGGTATTGTCCT ENSMUST0000022966...\n",
       " [3]  3722 GAGGAGGAGGAGGAGGAGGAGGA...GAGCAGACAAGAGAATGAAAAG ENSMUST0000022925...\n",
       " [4]  1091 GAAGAAAGCCAGATTCCAGACTT...GAAAGCGTTTCCTAGCTCAAGT ENSMUST0000021729...\n",
       " [5]  3329 GGGTTGCAACTCTTGCCCAGGGA...GAAACCCTGTCTCGAAAACACC ENSMUST0000019913...\n",
       " ...   ... ...\n",
       " [7]  2128 GTGAATTCCACTGGGTCTGGGCA...GCTGCCCACCTATGCAGGGCAT ENSMUST0000021653...\n",
       " [8]  2818 GACTCTCCGCGGCGGGGACAGAG...AGATCAGAAAGACTTCTTCCTC ENSMUST0000020916...\n",
       " [9] 19300 TGTACGCGTGGGTGTGGACAGCT...TATTTTAGTAGGCTTGAAAATG ENSMUST0000019624...\n",
       "[10]  4453 GAAAGACACTGGAAGGCGGCGGC...AATAAACGTCTTAACACCCAAA ENSMUST0000018262...\n",
       "[11]  3380 GGCCCGTCCCCTTTCGGCGCCCC...TCATATTAAAAGTGGAAAAGTC ENSMUST0000019444..."
      ]
     },
     "metadata": {},
     "output_type": "display_data"
    }
   ],
   "source": [
    "sample_fasta = fasta[tx_idx]\n",
    "sample_fasta"
   ]
  },
  {
   "cell_type": "code",
   "execution_count": 9,
   "metadata": {
    "collapsed": true
   },
   "outputs": [],
   "source": [
    "writeXStringSet(sample_fasta, '11_transcript_fasta.fa')"
   ]
  },
  {
   "cell_type": "code",
   "execution_count": 10,
   "metadata": {
    "collapsed": false
   },
   "outputs": [
    {
     "data": {
      "text/html": [
       "<ol class=list-inline>\n",
       "\t<li>37</li>\n",
       "\t<li>22</li>\n",
       "\t<li>47</li>\n",
       "\t<li>14</li>\n",
       "\t<li>42</li>\n",
       "\t<li>29</li>\n",
       "\t<li>27</li>\n",
       "\t<li>35</li>\n",
       "\t<li>241</li>\n",
       "\t<li>56</li>\n",
       "\t<li>42</li>\n",
       "</ol>\n"
      ],
      "text/latex": [
       "\\begin{enumerate*}\n",
       "\\item 37\n",
       "\\item 22\n",
       "\\item 47\n",
       "\\item 14\n",
       "\\item 42\n",
       "\\item 29\n",
       "\\item 27\n",
       "\\item 35\n",
       "\\item 241\n",
       "\\item 56\n",
       "\\item 42\n",
       "\\end{enumerate*}\n"
      ],
      "text/markdown": [
       "1. 37\n",
       "2. 22\n",
       "3. 47\n",
       "4. 14\n",
       "5. 42\n",
       "6. 29\n",
       "7. 27\n",
       "8. 35\n",
       "9. 241\n",
       "10. 56\n",
       "11. 42\n",
       "\n",
       "\n"
      ],
      "text/plain": [
       " [1]  37  22  47  14  42  29  27  35 241  56  42"
      ]
     },
     "metadata": {},
     "output_type": "display_data"
    }
   ],
   "source": [
    "readspertx = round(width(sample_fasta) / 80)\n",
    "readspertx"
   ]
  },
  {
   "cell_type": "code",
   "execution_count": 11,
   "metadata": {
    "collapsed": false
   },
   "outputs": [
    {
     "data": {
      "text/html": [
       "<ol class=list-inline>\n",
       "\t<li>11</li>\n",
       "\t<li>20</li>\n",
       "</ol>\n"
      ],
      "text/latex": [
       "\\begin{enumerate*}\n",
       "\\item 11\n",
       "\\item 20\n",
       "\\end{enumerate*}\n"
      ],
      "text/markdown": [
       "1. 11\n",
       "2. 20\n",
       "\n",
       "\n"
      ],
      "text/plain": [
       "[1] 11 20"
      ]
     },
     "metadata": {},
     "output_type": "display_data"
    },
    {
     "data": {
      "text/html": [
       "<table>\n",
       "<thead><tr><th scope=col>readspertx</th><th scope=col>readspertx</th><th scope=col>readspertx</th><th scope=col>readspertx</th><th scope=col>readspertx</th><th scope=col>readspertx</th><th scope=col>readspertx</th><th scope=col>readspertx</th><th scope=col>readspertx</th><th scope=col>readspertx</th><th scope=col>readspertx</th><th scope=col>readspertx</th><th scope=col>readspertx</th><th scope=col>readspertx</th><th scope=col>readspertx</th><th scope=col>readspertx</th><th scope=col>readspertx</th><th scope=col>readspertx</th><th scope=col>readspertx</th><th scope=col>readspertx</th></tr></thead>\n",
       "<tbody>\n",
       "\t<tr><td> 37</td><td> 37</td><td> 37</td><td> 37</td><td> 37</td><td> 37</td><td> 37</td><td> 37</td><td> 37</td><td> 37</td><td> 37</td><td> 37</td><td> 37</td><td> 37</td><td> 37</td><td> 37</td><td> 37</td><td> 37</td><td> 37</td><td> 37</td></tr>\n",
       "\t<tr><td> 22</td><td> 22</td><td> 22</td><td> 22</td><td> 22</td><td> 22</td><td> 22</td><td> 22</td><td> 22</td><td> 22</td><td> 22</td><td> 22</td><td> 22</td><td> 22</td><td> 22</td><td> 22</td><td> 22</td><td> 22</td><td> 22</td><td> 22</td></tr>\n",
       "\t<tr><td> 47</td><td> 47</td><td> 47</td><td> 47</td><td> 47</td><td> 47</td><td> 47</td><td> 47</td><td> 47</td><td> 47</td><td> 47</td><td> 47</td><td> 47</td><td> 47</td><td> 47</td><td> 47</td><td> 47</td><td> 47</td><td> 47</td><td> 47</td></tr>\n",
       "\t<tr><td> 14</td><td> 14</td><td> 14</td><td> 14</td><td> 14</td><td> 14</td><td> 14</td><td> 14</td><td> 14</td><td> 14</td><td> 14</td><td> 14</td><td> 14</td><td> 14</td><td> 14</td><td> 14</td><td> 14</td><td> 14</td><td> 14</td><td> 14</td></tr>\n",
       "\t<tr><td> 42</td><td> 42</td><td> 42</td><td> 42</td><td> 42</td><td> 42</td><td> 42</td><td> 42</td><td> 42</td><td> 42</td><td> 42</td><td> 42</td><td> 42</td><td> 42</td><td> 42</td><td> 42</td><td> 42</td><td> 42</td><td> 42</td><td> 42</td></tr>\n",
       "\t<tr><td> 29</td><td> 29</td><td> 29</td><td> 29</td><td> 29</td><td> 29</td><td> 29</td><td> 29</td><td> 29</td><td> 29</td><td> 29</td><td> 29</td><td> 29</td><td> 29</td><td> 29</td><td> 29</td><td> 29</td><td> 29</td><td> 29</td><td> 29</td></tr>\n",
       "\t<tr><td> 27</td><td> 27</td><td> 27</td><td> 27</td><td> 27</td><td> 27</td><td> 27</td><td> 27</td><td> 27</td><td> 27</td><td> 27</td><td> 27</td><td> 27</td><td> 27</td><td> 27</td><td> 27</td><td> 27</td><td> 27</td><td> 27</td><td> 27</td></tr>\n",
       "\t<tr><td> 35</td><td> 35</td><td> 35</td><td> 35</td><td> 35</td><td> 35</td><td> 35</td><td> 35</td><td> 35</td><td> 35</td><td> 35</td><td> 35</td><td> 35</td><td> 35</td><td> 35</td><td> 35</td><td> 35</td><td> 35</td><td> 35</td><td> 35</td></tr>\n",
       "\t<tr><td>241</td><td>241</td><td>241</td><td>241</td><td>241</td><td>241</td><td>241</td><td>241</td><td>241</td><td>241</td><td>241</td><td>241</td><td>241</td><td>241</td><td>241</td><td>241</td><td>241</td><td>241</td><td>241</td><td>241</td></tr>\n",
       "\t<tr><td> 56</td><td> 56</td><td> 56</td><td> 56</td><td> 56</td><td> 56</td><td> 56</td><td> 56</td><td> 56</td><td> 56</td><td> 56</td><td> 56</td><td> 56</td><td> 56</td><td> 56</td><td> 56</td><td> 56</td><td> 56</td><td> 56</td><td> 56</td></tr>\n",
       "\t<tr><td> 42</td><td> 42</td><td> 42</td><td> 42</td><td> 42</td><td> 42</td><td> 42</td><td> 42</td><td> 42</td><td> 42</td><td> 42</td><td> 42</td><td> 42</td><td> 42</td><td> 42</td><td> 42</td><td> 42</td><td> 42</td><td> 42</td><td> 42</td></tr>\n",
       "</tbody>\n",
       "</table>\n"
      ],
      "text/latex": [
       "\\begin{tabular}{llllllllllllllllllll}\n",
       " readspertx & readspertx & readspertx & readspertx & readspertx & readspertx & readspertx & readspertx & readspertx & readspertx & readspertx & readspertx & readspertx & readspertx & readspertx & readspertx & readspertx & readspertx & readspertx & readspertx\\\\\n",
       "\\hline\n",
       "\t  37 &  37 &  37 &  37 &  37 &  37 &  37 &  37 &  37 &  37 &  37 &  37 &  37 &  37 &  37 &  37 &  37 &  37 &  37 &  37\\\\\n",
       "\t  22 &  22 &  22 &  22 &  22 &  22 &  22 &  22 &  22 &  22 &  22 &  22 &  22 &  22 &  22 &  22 &  22 &  22 &  22 &  22\\\\\n",
       "\t  47 &  47 &  47 &  47 &  47 &  47 &  47 &  47 &  47 &  47 &  47 &  47 &  47 &  47 &  47 &  47 &  47 &  47 &  47 &  47\\\\\n",
       "\t  14 &  14 &  14 &  14 &  14 &  14 &  14 &  14 &  14 &  14 &  14 &  14 &  14 &  14 &  14 &  14 &  14 &  14 &  14 &  14\\\\\n",
       "\t  42 &  42 &  42 &  42 &  42 &  42 &  42 &  42 &  42 &  42 &  42 &  42 &  42 &  42 &  42 &  42 &  42 &  42 &  42 &  42\\\\\n",
       "\t  29 &  29 &  29 &  29 &  29 &  29 &  29 &  29 &  29 &  29 &  29 &  29 &  29 &  29 &  29 &  29 &  29 &  29 &  29 &  29\\\\\n",
       "\t  27 &  27 &  27 &  27 &  27 &  27 &  27 &  27 &  27 &  27 &  27 &  27 &  27 &  27 &  27 &  27 &  27 &  27 &  27 &  27\\\\\n",
       "\t  35 &  35 &  35 &  35 &  35 &  35 &  35 &  35 &  35 &  35 &  35 &  35 &  35 &  35 &  35 &  35 &  35 &  35 &  35 &  35\\\\\n",
       "\t 241 & 241 & 241 & 241 & 241 & 241 & 241 & 241 & 241 & 241 & 241 & 241 & 241 & 241 & 241 & 241 & 241 & 241 & 241 & 241\\\\\n",
       "\t  56 &  56 &  56 &  56 &  56 &  56 &  56 &  56 &  56 &  56 &  56 &  56 &  56 &  56 &  56 &  56 &  56 &  56 &  56 &  56\\\\\n",
       "\t  42 &  42 &  42 &  42 &  42 &  42 &  42 &  42 &  42 &  42 &  42 &  42 &  42 &  42 &  42 &  42 &  42 &  42 &  42 &  42\\\\\n",
       "\\end{tabular}\n"
      ],
      "text/markdown": [
       "\n",
       "readspertx | readspertx | readspertx | readspertx | readspertx | readspertx | readspertx | readspertx | readspertx | readspertx | readspertx | readspertx | readspertx | readspertx | readspertx | readspertx | readspertx | readspertx | readspertx | readspertx | \n",
       "|---|---|---|---|---|---|---|---|---|---|---|\n",
       "|  37 |  37 |  37 |  37 |  37 |  37 |  37 |  37 |  37 |  37 |  37 |  37 |  37 |  37 |  37 |  37 |  37 |  37 |  37 |  37 | \n",
       "|  22 |  22 |  22 |  22 |  22 |  22 |  22 |  22 |  22 |  22 |  22 |  22 |  22 |  22 |  22 |  22 |  22 |  22 |  22 |  22 | \n",
       "|  47 |  47 |  47 |  47 |  47 |  47 |  47 |  47 |  47 |  47 |  47 |  47 |  47 |  47 |  47 |  47 |  47 |  47 |  47 |  47 | \n",
       "|  14 |  14 |  14 |  14 |  14 |  14 |  14 |  14 |  14 |  14 |  14 |  14 |  14 |  14 |  14 |  14 |  14 |  14 |  14 |  14 | \n",
       "|  42 |  42 |  42 |  42 |  42 |  42 |  42 |  42 |  42 |  42 |  42 |  42 |  42 |  42 |  42 |  42 |  42 |  42 |  42 |  42 | \n",
       "|  29 |  29 |  29 |  29 |  29 |  29 |  29 |  29 |  29 |  29 |  29 |  29 |  29 |  29 |  29 |  29 |  29 |  29 |  29 |  29 | \n",
       "|  27 |  27 |  27 |  27 |  27 |  27 |  27 |  27 |  27 |  27 |  27 |  27 |  27 |  27 |  27 |  27 |  27 |  27 |  27 |  27 | \n",
       "|  35 |  35 |  35 |  35 |  35 |  35 |  35 |  35 |  35 |  35 |  35 |  35 |  35 |  35 |  35 |  35 |  35 |  35 |  35 |  35 | \n",
       "| 241 | 241 | 241 | 241 | 241 | 241 | 241 | 241 | 241 | 241 | 241 | 241 | 241 | 241 | 241 | 241 | 241 | 241 | 241 | 241 | \n",
       "|  56 |  56 |  56 |  56 |  56 |  56 |  56 |  56 |  56 |  56 |  56 |  56 |  56 |  56 |  56 |  56 |  56 |  56 |  56 |  56 | \n",
       "|  42 |  42 |  42 |  42 |  42 |  42 |  42 |  42 |  42 |  42 |  42 |  42 |  42 |  42 |  42 |  42 |  42 |  42 |  42 |  42 | \n",
       "\n",
       "\n"
      ],
      "text/plain": [
       "      readspertx readspertx readspertx readspertx readspertx readspertx\n",
       " [1,]  37         37         37         37         37         37       \n",
       " [2,]  22         22         22         22         22         22       \n",
       " [3,]  47         47         47         47         47         47       \n",
       " [4,]  14         14         14         14         14         14       \n",
       " [5,]  42         42         42         42         42         42       \n",
       " [6,]  29         29         29         29         29         29       \n",
       " [7,]  27         27         27         27         27         27       \n",
       " [8,]  35         35         35         35         35         35       \n",
       " [9,] 241        241        241        241        241        241       \n",
       "[10,]  56         56         56         56         56         56       \n",
       "[11,]  42         42         42         42         42         42       \n",
       "      readspertx readspertx readspertx readspertx readspertx readspertx\n",
       " [1,]  37         37         37         37         37         37       \n",
       " [2,]  22         22         22         22         22         22       \n",
       " [3,]  47         47         47         47         47         47       \n",
       " [4,]  14         14         14         14         14         14       \n",
       " [5,]  42         42         42         42         42         42       \n",
       " [6,]  29         29         29         29         29         29       \n",
       " [7,]  27         27         27         27         27         27       \n",
       " [8,]  35         35         35         35         35         35       \n",
       " [9,] 241        241        241        241        241        241       \n",
       "[10,]  56         56         56         56         56         56       \n",
       "[11,]  42         42         42         42         42         42       \n",
       "      readspertx readspertx readspertx readspertx readspertx readspertx\n",
       " [1,]  37         37         37         37         37         37       \n",
       " [2,]  22         22         22         22         22         22       \n",
       " [3,]  47         47         47         47         47         47       \n",
       " [4,]  14         14         14         14         14         14       \n",
       " [5,]  42         42         42         42         42         42       \n",
       " [6,]  29         29         29         29         29         29       \n",
       " [7,]  27         27         27         27         27         27       \n",
       " [8,]  35         35         35         35         35         35       \n",
       " [9,] 241        241        241        241        241        241       \n",
       "[10,]  56         56         56         56         56         56       \n",
       "[11,]  42         42         42         42         42         42       \n",
       "      readspertx readspertx\n",
       " [1,]  37         37       \n",
       " [2,]  22         22       \n",
       " [3,]  47         47       \n",
       " [4,]  14         14       \n",
       " [5,]  42         42       \n",
       " [6,]  29         29       \n",
       " [7,]  27         27       \n",
       " [8,]  35         35       \n",
       " [9,] 241        241       \n",
       "[10,]  56         56       \n",
       "[11,]  42         42       "
      ]
     },
     "metadata": {},
     "output_type": "display_data"
    }
   ],
   "source": [
    "readspertx_matrix = cbind(readspertx, readspertx, readspertx, readspertx, readspertx, readspertx, readspertx, readspertx, readspertx, readspertx, readspertx, readspertx, readspertx, readspertx, readspertx, readspertx, readspertx, readspertx, readspertx, readspertx)\n",
    "dim(readspertx_matrix)\n",
    "readspertx_matrix"
   ]
  },
  {
   "cell_type": "code",
   "execution_count": 12,
   "metadata": {
    "collapsed": false
   },
   "outputs": [
    {
     "data": {
      "text/html": [
       "<table>\n",
       "<thead><tr><th></th><th scope=col>Cell1</th><th scope=col>Cell2</th><th scope=col>Cell3</th><th scope=col>Cell4</th><th scope=col>Cell5</th><th scope=col>Cell6</th><th scope=col>Cell7</th><th scope=col>Cell8</th><th scope=col>Cell9</th><th scope=col>Cell10</th><th scope=col>Cell11</th><th scope=col>Cell12</th><th scope=col>Cell13</th><th scope=col>Cell14</th><th scope=col>Cell15</th><th scope=col>Cell16</th><th scope=col>Cell17</th><th scope=col>Cell18</th><th scope=col>Cell19</th><th scope=col>Cell20</th></tr></thead>\n",
       "<tbody>\n",
       "\t<tr><th scope=row>Gene1</th><td>    0</td><td>  185</td><td>    0</td><td>    0</td><td>    0</td><td>    0</td><td>   74</td><td>111  </td><td>  148</td><td>    0</td><td>   37</td><td>  148</td><td>    0</td><td>  111</td><td>   0 </td><td>   37</td><td>   37</td><td>    0</td><td>    0</td><td>   37</td></tr>\n",
       "\t<tr><th scope=row>Gene2</th><td>  704</td><td>  418</td><td>  374</td><td>  682</td><td>  880</td><td>  264</td><td>  440</td><td>616  </td><td>  484</td><td>  396</td><td>  638</td><td>  484</td><td>  286</td><td>  572</td><td> 528 </td><td>  880</td><td>  770</td><td> 1034</td><td>  902</td><td> 1188</td></tr>\n",
       "\t<tr><th scope=row>Gene3</th><td>    0</td><td>   47</td><td>  141</td><td>  141</td><td>  141</td><td>  141</td><td>   94</td><td>141  </td><td>   94</td><td>    0</td><td>   47</td><td>    0</td><td>  141</td><td>    0</td><td>   0 </td><td>   47</td><td>  423</td><td>    0</td><td>   47</td><td>    0</td></tr>\n",
       "\t<tr><th scope=row>Gene4</th><td>    0</td><td>    0</td><td>    0</td><td>    0</td><td>    0</td><td>    0</td><td>    0</td><td>  0  </td><td>   14</td><td>    0</td><td>    0</td><td>    0</td><td>    0</td><td>   42</td><td>   0 </td><td>    0</td><td>    0</td><td>    0</td><td>   14</td><td>    0</td></tr>\n",
       "\t<tr><th scope=row>Gene5</th><td> 1008</td><td>  966</td><td>  672</td><td>  924</td><td> 1092</td><td>    0</td><td>  504</td><td>798  </td><td>  336</td><td>  966</td><td> 1218</td><td>  672</td><td>  756</td><td>  966</td><td> 630 </td><td> 1638</td><td> 1722</td><td>  966</td><td> 1008</td><td> 1008</td></tr>\n",
       "\t<tr><th scope=row>Gene6</th><td>    0</td><td>   58</td><td>  290</td><td>  203</td><td>  406</td><td>  319</td><td>   58</td><td>232  </td><td>  435</td><td>   29</td><td>  667</td><td>   58</td><td>  203</td><td>  203</td><td> 319 </td><td>    0</td><td>  261</td><td>  116</td><td>  261</td><td>  435</td></tr>\n",
       "\t<tr><th scope=row>Gene7</th><td>  135</td><td>    0</td><td>    0</td><td>    0</td><td>    0</td><td>    0</td><td>   54</td><td>  0  </td><td>    0</td><td>    0</td><td>    0</td><td>   27</td><td>    0</td><td>    0</td><td>  81 </td><td>    0</td><td>    0</td><td>    0</td><td>    0</td><td>    0</td></tr>\n",
       "\t<tr><th scope=row>Gene8</th><td>    0</td><td>    0</td><td>    0</td><td>    0</td><td>    0</td><td>    0</td><td>    0</td><td>  0  </td><td>    0</td><td>    0</td><td>    0</td><td>    0</td><td>    0</td><td>    0</td><td>   0 </td><td>    0</td><td>    0</td><td>    0</td><td>    0</td><td>    0</td></tr>\n",
       "\t<tr><th scope=row>Gene9</th><td>10604</td><td>23377</td><td>15665</td><td>15665</td><td>19762</td><td>17593</td><td>27956</td><td>  0  </td><td>12050</td><td>10122</td><td>24100</td><td>10363</td><td>15906</td><td>16388</td><td>8917 </td><td>20244</td><td>16388</td><td>33258</td><td>20726</td><td>22172</td></tr>\n",
       "\t<tr><th scope=row>Gene10</th><td>    0</td><td>    0</td><td>    0</td><td>    0</td><td>    0</td><td>   56</td><td>    0</td><td>280  </td><td>    0</td><td>    0</td><td>   56</td><td>    0</td><td>    0</td><td>    0</td><td>   0 </td><td>    0</td><td>  112</td><td>  112</td><td>    0</td><td>    0</td></tr>\n",
       "\t<tr><th scope=row>Gene11</th><td>    0</td><td>   84</td><td>   84</td><td>  294</td><td>  252</td><td>  126</td><td>   42</td><td> 84  </td><td>    0</td><td>   42</td><td>  294</td><td>  294</td><td>    0</td><td>  126</td><td>   0 </td><td>   42</td><td>    0</td><td>  252</td><td>    0</td><td>   84</td></tr>\n",
       "</tbody>\n",
       "</table>\n"
      ],
      "text/latex": [
       "\\begin{tabular}{r|llllllllllllllllllll}\n",
       "  & Cell1 & Cell2 & Cell3 & Cell4 & Cell5 & Cell6 & Cell7 & Cell8 & Cell9 & Cell10 & Cell11 & Cell12 & Cell13 & Cell14 & Cell15 & Cell16 & Cell17 & Cell18 & Cell19 & Cell20\\\\\n",
       "\\hline\n",
       "\tGene1 &     0 &   185 &     0 &     0 &     0 &     0 &    74 & 111   &   148 &     0 &    37 &   148 &     0 &   111 &    0  &    37 &    37 &     0 &     0 &    37\\\\\n",
       "\tGene2 &   704 &   418 &   374 &   682 &   880 &   264 &   440 & 616   &   484 &   396 &   638 &   484 &   286 &   572 &  528  &   880 &   770 &  1034 &   902 &  1188\\\\\n",
       "\tGene3 &     0 &    47 &   141 &   141 &   141 &   141 &    94 & 141   &    94 &     0 &    47 &     0 &   141 &     0 &    0  &    47 &   423 &     0 &    47 &     0\\\\\n",
       "\tGene4 &     0 &     0 &     0 &     0 &     0 &     0 &     0 &   0   &    14 &     0 &     0 &     0 &     0 &    42 &    0  &     0 &     0 &     0 &    14 &     0\\\\\n",
       "\tGene5 &  1008 &   966 &   672 &   924 &  1092 &     0 &   504 & 798   &   336 &   966 &  1218 &   672 &   756 &   966 &  630  &  1638 &  1722 &   966 &  1008 &  1008\\\\\n",
       "\tGene6 &     0 &    58 &   290 &   203 &   406 &   319 &    58 & 232   &   435 &    29 &   667 &    58 &   203 &   203 &  319  &     0 &   261 &   116 &   261 &   435\\\\\n",
       "\tGene7 &   135 &     0 &     0 &     0 &     0 &     0 &    54 &   0   &     0 &     0 &     0 &    27 &     0 &     0 &   81  &     0 &     0 &     0 &     0 &     0\\\\\n",
       "\tGene8 &     0 &     0 &     0 &     0 &     0 &     0 &     0 &   0   &     0 &     0 &     0 &     0 &     0 &     0 &    0  &     0 &     0 &     0 &     0 &     0\\\\\n",
       "\tGene9 & 10604 & 23377 & 15665 & 15665 & 19762 & 17593 & 27956 &   0   & 12050 & 10122 & 24100 & 10363 & 15906 & 16388 & 8917  & 20244 & 16388 & 33258 & 20726 & 22172\\\\\n",
       "\tGene10 &     0 &     0 &     0 &     0 &     0 &    56 &     0 & 280   &     0 &     0 &    56 &     0 &     0 &     0 &    0  &     0 &   112 &   112 &     0 &     0\\\\\n",
       "\tGene11 &     0 &    84 &    84 &   294 &   252 &   126 &    42 &  84   &     0 &    42 &   294 &   294 &     0 &   126 &    0  &    42 &     0 &   252 &     0 &    84\\\\\n",
       "\\end{tabular}\n"
      ],
      "text/markdown": [
       "\n",
       "| <!--/--> | Cell1 | Cell2 | Cell3 | Cell4 | Cell5 | Cell6 | Cell7 | Cell8 | Cell9 | Cell10 | Cell11 | Cell12 | Cell13 | Cell14 | Cell15 | Cell16 | Cell17 | Cell18 | Cell19 | Cell20 | \n",
       "|---|---|---|---|---|---|---|---|---|---|---|\n",
       "| Gene1 |     0 |   185 |     0 |     0 |     0 |     0 |    74 | 111   |   148 |     0 |    37 |   148 |     0 |   111 |    0  |    37 |    37 |     0 |     0 |    37 | \n",
       "| Gene2 |   704 |   418 |   374 |   682 |   880 |   264 |   440 | 616   |   484 |   396 |   638 |   484 |   286 |   572 |  528  |   880 |   770 |  1034 |   902 |  1188 | \n",
       "| Gene3 |     0 |    47 |   141 |   141 |   141 |   141 |    94 | 141   |    94 |     0 |    47 |     0 |   141 |     0 |    0  |    47 |   423 |     0 |    47 |     0 | \n",
       "| Gene4 |     0 |     0 |     0 |     0 |     0 |     0 |     0 |   0   |    14 |     0 |     0 |     0 |     0 |    42 |    0  |     0 |     0 |     0 |    14 |     0 | \n",
       "| Gene5 |  1008 |   966 |   672 |   924 |  1092 |     0 |   504 | 798   |   336 |   966 |  1218 |   672 |   756 |   966 |  630  |  1638 |  1722 |   966 |  1008 |  1008 | \n",
       "| Gene6 |     0 |    58 |   290 |   203 |   406 |   319 |    58 | 232   |   435 |    29 |   667 |    58 |   203 |   203 |  319  |     0 |   261 |   116 |   261 |   435 | \n",
       "| Gene7 |   135 |     0 |     0 |     0 |     0 |     0 |    54 |   0   |     0 |     0 |     0 |    27 |     0 |     0 |   81  |     0 |     0 |     0 |     0 |     0 | \n",
       "| Gene8 |     0 |     0 |     0 |     0 |     0 |     0 |     0 |   0   |     0 |     0 |     0 |     0 |     0 |     0 |    0  |     0 |     0 |     0 |     0 |     0 | \n",
       "| Gene9 | 10604 | 23377 | 15665 | 15665 | 19762 | 17593 | 27956 |   0   | 12050 | 10122 | 24100 | 10363 | 15906 | 16388 | 8917  | 20244 | 16388 | 33258 | 20726 | 22172 | \n",
       "| Gene10 |     0 |     0 |     0 |     0 |     0 |    56 |     0 | 280   |     0 |     0 |    56 |     0 |     0 |     0 |    0  |     0 |   112 |   112 |     0 |     0 | \n",
       "| Gene11 |     0 |    84 |    84 |   294 |   252 |   126 |    42 |  84   |     0 |    42 |   294 |   294 |     0 |   126 |    0  |    42 |     0 |   252 |     0 |    84 | \n",
       "\n",
       "\n"
      ],
      "text/plain": [
       "       Cell1 Cell2 Cell3 Cell4 Cell5 Cell6 Cell7 Cell8 Cell9 Cell10 Cell11\n",
       "Gene1      0   185     0     0     0     0    74 111     148     0     37 \n",
       "Gene2    704   418   374   682   880   264   440 616     484   396    638 \n",
       "Gene3      0    47   141   141   141   141    94 141      94     0     47 \n",
       "Gene4      0     0     0     0     0     0     0   0      14     0      0 \n",
       "Gene5   1008   966   672   924  1092     0   504 798     336   966   1218 \n",
       "Gene6      0    58   290   203   406   319    58 232     435    29    667 \n",
       "Gene7    135     0     0     0     0     0    54   0       0     0      0 \n",
       "Gene8      0     0     0     0     0     0     0   0       0     0      0 \n",
       "Gene9  10604 23377 15665 15665 19762 17593 27956   0   12050 10122  24100 \n",
       "Gene10     0     0     0     0     0    56     0 280       0     0     56 \n",
       "Gene11     0    84    84   294   252   126    42  84       0    42    294 \n",
       "       Cell12 Cell13 Cell14 Cell15 Cell16 Cell17 Cell18 Cell19 Cell20\n",
       "Gene1    148      0    111     0      37     37      0      0     37 \n",
       "Gene2    484    286    572   528     880    770   1034    902   1188 \n",
       "Gene3      0    141      0     0      47    423      0     47      0 \n",
       "Gene4      0      0     42     0       0      0      0     14      0 \n",
       "Gene5    672    756    966   630    1638   1722    966   1008   1008 \n",
       "Gene6     58    203    203   319       0    261    116    261    435 \n",
       "Gene7     27      0      0    81       0      0      0      0      0 \n",
       "Gene8      0      0      0     0       0      0      0      0      0 \n",
       "Gene9  10363  15906  16388  8917   20244  16388  33258  20726  22172 \n",
       "Gene10     0      0      0     0       0    112    112      0      0 \n",
       "Gene11   294      0    126     0      42      0    252      0     84 "
      ]
     },
     "metadata": {},
     "output_type": "display_data"
    }
   ],
   "source": [
    "countmat = counts(sim) * readspertx_matrix\n",
    "countmat"
   ]
  },
  {
   "cell_type": "code",
   "execution_count": 23,
   "metadata": {
    "collapsed": false
   },
   "outputs": [],
   "source": [
    "# simulate reads:\n",
    "simulate_experiment_countmat('11_transcript_fasta.fa', readmat=countmat, \n",
    "    outdir='simulated_rna_bias', paired=FALSE, readlen=20, bias='rnaf') "
   ]
  },
  {
   "cell_type": "code",
   "execution_count": null,
   "metadata": {
    "collapsed": true
   },
   "outputs": [],
   "source": []
  },
  {
   "cell_type": "code",
   "execution_count": null,
   "metadata": {
    "collapsed": true
   },
   "outputs": [],
   "source": []
  },
  {
   "cell_type": "code",
   "execution_count": 19,
   "metadata": {
    "collapsed": true
   },
   "outputs": [],
   "source": [
    "load(\"rnaf.rda\")"
   ]
  },
  {
   "cell_type": "code",
   "execution_count": 20,
   "metadata": {
    "collapsed": false
   },
   "outputs": [
    {
     "data": {
      "text/html": [
       "<table>\n",
       "<thead><tr><th scope=col>pospct</th><th scope=col>prob</th></tr></thead>\n",
       "<tbody>\n",
       "\t<tr><td>0.01        </td><td>0.0000000000</td></tr>\n",
       "\t<tr><td>0.02        </td><td>0.0005487878</td></tr>\n",
       "\t<tr><td>0.03        </td><td>0.0010428300</td></tr>\n",
       "\t<tr><td>0.04        </td><td>0.0014820482</td></tr>\n",
       "\t<tr><td>0.05        </td><td>0.0023060522</td></tr>\n",
       "\t<tr><td>0.06        </td><td>0.0030752323</td></tr>\n",
       "\t<tr><td>0.07        </td><td>0.0038990797</td></tr>\n",
       "\t<tr><td>0.08        </td><td>0.0051630852</td></tr>\n",
       "\t<tr><td>0.09        </td><td>0.0062069333</td></tr>\n",
       "\t<tr><td>0.10        </td><td>0.0072509381</td></tr>\n",
       "\t<tr><td>0.11        </td><td>0.0081849033</td></tr>\n",
       "\t<tr><td>0.12        </td><td>0.0086239649</td></tr>\n",
       "\t<tr><td>0.13        </td><td>0.0089533002</td></tr>\n",
       "\t<tr><td>0.14        </td><td>0.0094473424</td></tr>\n",
       "\t<tr><td>0.15        </td><td>0.0102163659</td></tr>\n",
       "\t<tr><td>0.16        </td><td>0.0105457012</td></tr>\n",
       "\t<tr><td>0.17        </td><td>0.0105448397</td></tr>\n",
       "\t<tr><td>0.18        </td><td>0.0108740967</td></tr>\n",
       "\t<tr><td>0.19        </td><td>0.0105985672</td></tr>\n",
       "\t<tr><td>0.20        </td><td>0.0108177064</td></tr>\n",
       "\t<tr><td>0.21        </td><td>0.0110369239</td></tr>\n",
       "\t<tr><td>0.22        </td><td>0.0113112786</td></tr>\n",
       "\t<tr><td>0.23        </td><td>0.0116953596</td></tr>\n",
       "\t<tr><td>0.24        </td><td>0.0123545002</td></tr>\n",
       "\t<tr><td>0.25        </td><td>0.0117489304</td></tr>\n",
       "\t<tr><td>0.26        </td><td>0.0117482255</td></tr>\n",
       "\t<tr><td>0.27        </td><td>0.0113627348</td></tr>\n",
       "\t<tr><td>0.28        </td><td>0.0124616418</td></tr>\n",
       "\t<tr><td>0.29        </td><td>0.0119112093</td></tr>\n",
       "\t<tr><td>0.30        </td><td>0.0119104261</td></tr>\n",
       "\t<tr><td>⋮</td><td>⋮</td></tr>\n",
       "\t<tr><td>0.71       </td><td>0.012706862</td></tr>\n",
       "\t<tr><td>0.72       </td><td>0.012376273</td></tr>\n",
       "\t<tr><td>0.73       </td><td>0.012595412</td></tr>\n",
       "\t<tr><td>0.74       </td><td>0.012209843</td></tr>\n",
       "\t<tr><td>0.75       </td><td>0.011494391</td></tr>\n",
       "\t<tr><td>0.76       </td><td>0.012208433</td></tr>\n",
       "\t<tr><td>0.77       </td><td>0.011658158</td></tr>\n",
       "\t<tr><td>0.78       </td><td>0.011932199</td></tr>\n",
       "\t<tr><td>0.79       </td><td>0.011656670</td></tr>\n",
       "\t<tr><td>0.80       </td><td>0.011545925</td></tr>\n",
       "\t<tr><td>0.81       </td><td>0.011325376</td></tr>\n",
       "\t<tr><td>0.82       </td><td>0.010499884</td></tr>\n",
       "\t<tr><td>0.83       </td><td>0.010114472</td></tr>\n",
       "\t<tr><td>0.84       </td><td>0.009838707</td></tr>\n",
       "\t<tr><td>0.85       </td><td>0.009508197</td></tr>\n",
       "\t<tr><td>0.86       </td><td>0.009342629</td></tr>\n",
       "\t<tr><td>0.87       </td><td>0.008847098</td></tr>\n",
       "\t<tr><td>0.88       </td><td>0.008791413</td></tr>\n",
       "\t<tr><td>0.89       </td><td>0.007855960</td></tr>\n",
       "\t<tr><td>0.90       </td><td>0.007415567</td></tr>\n",
       "\t<tr><td>0.91       </td><td>0.006755095</td></tr>\n",
       "\t<tr><td>0.92       </td><td>0.005929602</td></tr>\n",
       "\t<tr><td>0.93       </td><td>0.005819015</td></tr>\n",
       "\t<tr><td>0.94       </td><td>0.005378465</td></tr>\n",
       "\t<tr><td>0.95       </td><td>0.004717993</td></tr>\n",
       "\t<tr><td>0.96       </td><td>0.004112502</td></tr>\n",
       "\t<tr><td>0.97       </td><td>0.003617050</td></tr>\n",
       "\t<tr><td>0.98       </td><td>0.002846616</td></tr>\n",
       "\t<tr><td>0.99       </td><td>0.002186144</td></tr>\n",
       "\t<tr><td>1.00       </td><td>0.001690692</td></tr>\n",
       "</tbody>\n",
       "</table>\n"
      ],
      "text/latex": [
       "\\begin{tabular}{r|ll}\n",
       " pospct & prob\\\\\n",
       "\\hline\n",
       "\t 0.01         & 0.0000000000\\\\\n",
       "\t 0.02         & 0.0005487878\\\\\n",
       "\t 0.03         & 0.0010428300\\\\\n",
       "\t 0.04         & 0.0014820482\\\\\n",
       "\t 0.05         & 0.0023060522\\\\\n",
       "\t 0.06         & 0.0030752323\\\\\n",
       "\t 0.07         & 0.0038990797\\\\\n",
       "\t 0.08         & 0.0051630852\\\\\n",
       "\t 0.09         & 0.0062069333\\\\\n",
       "\t 0.10         & 0.0072509381\\\\\n",
       "\t 0.11         & 0.0081849033\\\\\n",
       "\t 0.12         & 0.0086239649\\\\\n",
       "\t 0.13         & 0.0089533002\\\\\n",
       "\t 0.14         & 0.0094473424\\\\\n",
       "\t 0.15         & 0.0102163659\\\\\n",
       "\t 0.16         & 0.0105457012\\\\\n",
       "\t 0.17         & 0.0105448397\\\\\n",
       "\t 0.18         & 0.0108740967\\\\\n",
       "\t 0.19         & 0.0105985672\\\\\n",
       "\t 0.20         & 0.0108177064\\\\\n",
       "\t 0.21         & 0.0110369239\\\\\n",
       "\t 0.22         & 0.0113112786\\\\\n",
       "\t 0.23         & 0.0116953596\\\\\n",
       "\t 0.24         & 0.0123545002\\\\\n",
       "\t 0.25         & 0.0117489304\\\\\n",
       "\t 0.26         & 0.0117482255\\\\\n",
       "\t 0.27         & 0.0113627348\\\\\n",
       "\t 0.28         & 0.0124616418\\\\\n",
       "\t 0.29         & 0.0119112093\\\\\n",
       "\t 0.30         & 0.0119104261\\\\\n",
       "\t ⋮ & ⋮\\\\\n",
       "\t 0.71        & 0.012706862\\\\\n",
       "\t 0.72        & 0.012376273\\\\\n",
       "\t 0.73        & 0.012595412\\\\\n",
       "\t 0.74        & 0.012209843\\\\\n",
       "\t 0.75        & 0.011494391\\\\\n",
       "\t 0.76        & 0.012208433\\\\\n",
       "\t 0.77        & 0.011658158\\\\\n",
       "\t 0.78        & 0.011932199\\\\\n",
       "\t 0.79        & 0.011656670\\\\\n",
       "\t 0.80        & 0.011545925\\\\\n",
       "\t 0.81        & 0.011325376\\\\\n",
       "\t 0.82        & 0.010499884\\\\\n",
       "\t 0.83        & 0.010114472\\\\\n",
       "\t 0.84        & 0.009838707\\\\\n",
       "\t 0.85        & 0.009508197\\\\\n",
       "\t 0.86        & 0.009342629\\\\\n",
       "\t 0.87        & 0.008847098\\\\\n",
       "\t 0.88        & 0.008791413\\\\\n",
       "\t 0.89        & 0.007855960\\\\\n",
       "\t 0.90        & 0.007415567\\\\\n",
       "\t 0.91        & 0.006755095\\\\\n",
       "\t 0.92        & 0.005929602\\\\\n",
       "\t 0.93        & 0.005819015\\\\\n",
       "\t 0.94        & 0.005378465\\\\\n",
       "\t 0.95        & 0.004717993\\\\\n",
       "\t 0.96        & 0.004112502\\\\\n",
       "\t 0.97        & 0.003617050\\\\\n",
       "\t 0.98        & 0.002846616\\\\\n",
       "\t 0.99        & 0.002186144\\\\\n",
       "\t 1.00        & 0.001690692\\\\\n",
       "\\end{tabular}\n"
      ],
      "text/markdown": [
       "\n",
       "pospct | prob | \n",
       "|---|---|---|---|---|---|---|---|---|---|---|---|---|---|---|---|---|---|---|---|---|---|---|---|---|---|---|---|---|---|---|---|---|---|---|---|---|---|---|---|---|---|---|---|---|---|---|---|---|---|---|---|---|---|---|---|---|---|---|---|---|\n",
       "| 0.01         | 0.0000000000 | \n",
       "| 0.02         | 0.0005487878 | \n",
       "| 0.03         | 0.0010428300 | \n",
       "| 0.04         | 0.0014820482 | \n",
       "| 0.05         | 0.0023060522 | \n",
       "| 0.06         | 0.0030752323 | \n",
       "| 0.07         | 0.0038990797 | \n",
       "| 0.08         | 0.0051630852 | \n",
       "| 0.09         | 0.0062069333 | \n",
       "| 0.10         | 0.0072509381 | \n",
       "| 0.11         | 0.0081849033 | \n",
       "| 0.12         | 0.0086239649 | \n",
       "| 0.13         | 0.0089533002 | \n",
       "| 0.14         | 0.0094473424 | \n",
       "| 0.15         | 0.0102163659 | \n",
       "| 0.16         | 0.0105457012 | \n",
       "| 0.17         | 0.0105448397 | \n",
       "| 0.18         | 0.0108740967 | \n",
       "| 0.19         | 0.0105985672 | \n",
       "| 0.20         | 0.0108177064 | \n",
       "| 0.21         | 0.0110369239 | \n",
       "| 0.22         | 0.0113112786 | \n",
       "| 0.23         | 0.0116953596 | \n",
       "| 0.24         | 0.0123545002 | \n",
       "| 0.25         | 0.0117489304 | \n",
       "| 0.26         | 0.0117482255 | \n",
       "| 0.27         | 0.0113627348 | \n",
       "| 0.28         | 0.0124616418 | \n",
       "| 0.29         | 0.0119112093 | \n",
       "| 0.30         | 0.0119104261 | \n",
       "| ⋮ | ⋮ | \n",
       "| 0.71        | 0.012706862 | \n",
       "| 0.72        | 0.012376273 | \n",
       "| 0.73        | 0.012595412 | \n",
       "| 0.74        | 0.012209843 | \n",
       "| 0.75        | 0.011494391 | \n",
       "| 0.76        | 0.012208433 | \n",
       "| 0.77        | 0.011658158 | \n",
       "| 0.78        | 0.011932199 | \n",
       "| 0.79        | 0.011656670 | \n",
       "| 0.80        | 0.011545925 | \n",
       "| 0.81        | 0.011325376 | \n",
       "| 0.82        | 0.010499884 | \n",
       "| 0.83        | 0.010114472 | \n",
       "| 0.84        | 0.009838707 | \n",
       "| 0.85        | 0.009508197 | \n",
       "| 0.86        | 0.009342629 | \n",
       "| 0.87        | 0.008847098 | \n",
       "| 0.88        | 0.008791413 | \n",
       "| 0.89        | 0.007855960 | \n",
       "| 0.90        | 0.007415567 | \n",
       "| 0.91        | 0.006755095 | \n",
       "| 0.92        | 0.005929602 | \n",
       "| 0.93        | 0.005819015 | \n",
       "| 0.94        | 0.005378465 | \n",
       "| 0.95        | 0.004717993 | \n",
       "| 0.96        | 0.004112502 | \n",
       "| 0.97        | 0.003617050 | \n",
       "| 0.98        | 0.002846616 | \n",
       "| 0.99        | 0.002186144 | \n",
       "| 1.00        | 0.001690692 | \n",
       "\n",
       "\n"
      ],
      "text/plain": [
       "    pospct prob        \n",
       "1   0.01   0.0000000000\n",
       "2   0.02   0.0005487878\n",
       "3   0.03   0.0010428300\n",
       "4   0.04   0.0014820482\n",
       "5   0.05   0.0023060522\n",
       "6   0.06   0.0030752323\n",
       "7   0.07   0.0038990797\n",
       "8   0.08   0.0051630852\n",
       "9   0.09   0.0062069333\n",
       "10  0.10   0.0072509381\n",
       "11  0.11   0.0081849033\n",
       "12  0.12   0.0086239649\n",
       "13  0.13   0.0089533002\n",
       "14  0.14   0.0094473424\n",
       "15  0.15   0.0102163659\n",
       "16  0.16   0.0105457012\n",
       "17  0.17   0.0105448397\n",
       "18  0.18   0.0108740967\n",
       "19  0.19   0.0105985672\n",
       "20  0.20   0.0108177064\n",
       "21  0.21   0.0110369239\n",
       "22  0.22   0.0113112786\n",
       "23  0.23   0.0116953596\n",
       "24  0.24   0.0123545002\n",
       "25  0.25   0.0117489304\n",
       "26  0.26   0.0117482255\n",
       "27  0.27   0.0113627348\n",
       "28  0.28   0.0124616418\n",
       "29  0.29   0.0119112093\n",
       "30  0.30   0.0119104261\n",
       "⋮   ⋮      ⋮           \n",
       "71  0.71   0.012706862 \n",
       "72  0.72   0.012376273 \n",
       "73  0.73   0.012595412 \n",
       "74  0.74   0.012209843 \n",
       "75  0.75   0.011494391 \n",
       "76  0.76   0.012208433 \n",
       "77  0.77   0.011658158 \n",
       "78  0.78   0.011932199 \n",
       "79  0.79   0.011656670 \n",
       "80  0.80   0.011545925 \n",
       "81  0.81   0.011325376 \n",
       "82  0.82   0.010499884 \n",
       "83  0.83   0.010114472 \n",
       "84  0.84   0.009838707 \n",
       "85  0.85   0.009508197 \n",
       "86  0.86   0.009342629 \n",
       "87  0.87   0.008847098 \n",
       "88  0.88   0.008791413 \n",
       "89  0.89   0.007855960 \n",
       "90  0.90   0.007415567 \n",
       "91  0.91   0.006755095 \n",
       "92  0.92   0.005929602 \n",
       "93  0.93   0.005819015 \n",
       "94  0.94   0.005378465 \n",
       "95  0.95   0.004717993 \n",
       "96  0.96   0.004112502 \n",
       "97  0.97   0.003617050 \n",
       "98  0.98   0.002846616 \n",
       "99  0.99   0.002186144 \n",
       "100 1.00   0.001690692 "
      ]
     },
     "metadata": {},
     "output_type": "display_data"
    }
   ],
   "source": [
    "rnaf"
   ]
  },
  {
   "cell_type": "code",
   "execution_count": null,
   "metadata": {
    "collapsed": true
   },
   "outputs": [],
   "source": []
  },
  {
   "cell_type": "code",
   "execution_count": null,
   "metadata": {
    "collapsed": true
   },
   "outputs": [],
   "source": []
  },
  {
   "cell_type": "code",
   "execution_count": null,
   "metadata": {
    "collapsed": true
   },
   "outputs": [],
   "source": []
  },
  {
   "cell_type": "code",
   "execution_count": null,
   "metadata": {
    "collapsed": true
   },
   "outputs": [],
   "source": []
  }
 ],
 "metadata": {
  "anaconda-cloud": {},
  "kernelspec": {
   "display_name": "R",
   "language": "R",
   "name": "ir"
  },
  "language_info": {
   "codemirror_mode": "r",
   "file_extension": ".r",
   "mimetype": "text/x-r-source",
   "name": "R",
   "pygments_lexer": "r",
   "version": "3.4.4"
  }
 },
 "nbformat": 4,
 "nbformat_minor": 1
}
